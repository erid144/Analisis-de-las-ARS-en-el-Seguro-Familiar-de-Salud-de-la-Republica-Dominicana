{
 "cells": [
  {
   "cell_type": "code",
   "execution_count": 207,
   "id": "4e701d2d-4b30-4201-8134-922ff5a9600e",
   "metadata": {
    "tags": []
   },
   "outputs": [
    {
     "name": "stdout",
     "output_type": "stream",
     "text": [
      "The autoreload extension is already loaded. To reload it, use:\n",
      "  %reload_ext autoreload\n"
     ]
    }
   ],
   "source": [
    "import sys\n",
    "sys.path.append('src')\n",
    "sys.path.append('models')\n",
    "sys.path.append('data')\n",
    "from librerias import *\n",
    "from utils import *\n",
    "%load_ext autoreload\n",
    "%autoreload 2\n",
    "#generate_requirements_txt(\"requirements.txt\")\n",
    "#install_requirements()\n"
   ]
  },
  {
   "cell_type": "code",
   "execution_count": 186,
   "id": "884eec19-a368-44e5-9f9c-b2ff918ad127",
   "metadata": {},
   "outputs": [],
   "source": [
    "%reload_ext autoreload"
   ]
  },
  {
   "cell_type": "code",
   "execution_count": null,
   "id": "47d03ff5-fcf5-4343-8e13-4a4fe0bbc729",
   "metadata": {},
   "outputs": [],
   "source": [
    "\n"
   ]
  },
  {
   "cell_type": "code",
   "execution_count": 193,
   "id": "1b9a8665-d05f-4251-9099-f06d0e621caa",
   "metadata": {
    "tags": []
   },
   "outputs": [
    {
     "name": "stdout",
     "output_type": "stream",
     "text": [
      "<class 'pandas.core.frame.DataFrame'>\n",
      "RangeIndex: 196 entries, 0 to 195\n",
      "Data columns (total 49 columns):\n",
      " #   Column                          Non-Null Count  Dtype \n",
      "---  ------                          --------------  ----- \n",
      " 0   Total general                   196 non-null    object\n",
      " 1   Total Región Distrito Nacional  196 non-null    object\n",
      " 2   Total 0 - Santo Domingo         196 non-null    object\n",
      " 3   Distrito Nacional               196 non-null    object\n",
      " 4   Monte Plata                     196 non-null    object\n",
      " 5   Santo Domingo                   196 non-null    object\n",
      " 6   Total Región Este               196 non-null    object\n",
      " 7   Total V - Este                  196 non-null    object\n",
      " 8   El Seybo                        196 non-null    object\n",
      " 9   Hato Mayor del Rey              196 non-null    object\n",
      " 10  La Altagracia                   196 non-null    object\n",
      " 11  La Romana                       196 non-null    object\n",
      " 12  San Pedro de Macorís            196 non-null    object\n",
      " 13  Total Región Norte              196 non-null    object\n",
      " 14  Total II - Norcentral           196 non-null    object\n",
      " 15  Espaillat                       196 non-null    object\n",
      " 16  Puerto Plata                    196 non-null    object\n",
      " 17  Santiago                        196 non-null    object\n",
      " 18  Total III - Nordeste            196 non-null    object\n",
      " 19  Duarte                          196 non-null    object\n",
      " 20  Hermanas Mirabal                196 non-null    object\n",
      " 21  Maria Trinidad Sanchez          196 non-null    object\n",
      " 22  Samaná                          196 non-null    object\n",
      " 23  Total VII - Cibao Occidental    196 non-null    object\n",
      " 24  Dajabon                         196 non-null    object\n",
      " 25  Montecristi                     196 non-null    object\n",
      " 26  Santiago Rodriguez              196 non-null    object\n",
      " 27  Valverde                        196 non-null    object\n",
      " 28  Total VIII - Cibao Central      196 non-null    object\n",
      " 29  La vega                         196 non-null    object\n",
      " 30  Monseñor Nouel                  196 non-null    object\n",
      " 31  Sanchez Ramirez                 196 non-null    object\n",
      " 32  Total Región Sur                196 non-null    object\n",
      " 33  Total I - Valdesia              196 non-null    object\n",
      " 34  Peravia                         196 non-null    object\n",
      " 35  San Cristóbal                   196 non-null    object\n",
      " 36  San José de Ocoa                196 non-null    object\n",
      " 37  Total IV - Enriquillo           196 non-null    object\n",
      " 38  Bahoruco                        196 non-null    object\n",
      " 39  Barahona                        196 non-null    object\n",
      " 40  Independencia                   196 non-null    object\n",
      " 41  Pedernales                      196 non-null    object\n",
      " 42  Total VI - El Valle             196 non-null    object\n",
      " 43  Azua                            196 non-null    object\n",
      " 44  Elias Piña                      196 non-null    object\n",
      " 45  San Juan de la Maguana          196 non-null    object\n",
      " 46  No Especificada                 196 non-null    object\n",
      " 47  Month                           196 non-null    int64 \n",
      " 48  Year                            196 non-null    int64 \n",
      "dtypes: int64(2), object(47)\n",
      "memory usage: 75.2+ KB\n"
     ]
    }
   ],
   "source": [
    "df.info()"
   ]
  },
  {
   "cell_type": "code",
   "execution_count": 225,
   "id": "778eee74-b8e4-42f6-8f27-18c4d1b38c6e",
   "metadata": {},
   "outputs": [],
   "source": [
    "\n",
    "    \n",
    "\n",
    "# Ejemplo de uso\n",
    "data_path = \"data/SISALRIL/afiliacion/Afiliacion_RC_PBS_04.xlsx\"\n",
    "Extraer_datos_regionales(data_path, header_=7, rows_=54-7, archivocsv='data/SISALRIL/afiliacion/RC_Datos_Regionales.csv')\n",
    "data_path = \"data/SISALRIL/afiliacion/Afiliacion_RC_PBS_05.xlsx\"\n",
    "Extraer_datos_regionales(data_path, header_=7, rows_=54-7, archivocsv='data/SISALRIL/afiliacion/RC_Datos_Regionales_Cotizantes.csv')\n",
    "data_path = \"data/SISALRIL/afiliacion/Afiliacion_RC_PBS_06.xlsx\"\n",
    "Extraer_datos_regionales(data_path, header_=6, rows_=54-7, archivocsv='data/SISALRIL/afiliacion/RC_Datos_Regionales_NoCotizantes.csv')\n",
    "\n",
    "\n",
    " \n",
    "    \n",
    "\n",
    "\n",
    "\n",
    "  \n",
    "\n"
   ]
  },
  {
   "cell_type": "code",
   "execution_count": 155,
   "id": "99305f1e-4d1b-4219-9258-8da3f372c626",
   "metadata": {
    "tags": []
   },
   "outputs": [],
   "source": [
    "\n"
   ]
  },
  {
   "cell_type": "code",
   "execution_count": null,
   "id": "44767a2e-ad04-472c-94b9-76eaac34b33a",
   "metadata": {},
   "outputs": [],
   "source": []
  },
  {
   "cell_type": "code",
   "execution_count": null,
   "id": "5052850c-bdc1-41d1-8244-f8cbc641c7ce",
   "metadata": {
    "tags": []
   },
   "outputs": [],
   "source": []
  },
  {
   "cell_type": "code",
   "execution_count": null,
   "id": "d3a1d102-d8f7-4a06-9434-237309d3cd17",
   "metadata": {
    "tags": []
   },
   "outputs": [],
   "source": []
  },
  {
   "cell_type": "code",
   "execution_count": null,
   "id": "4e8451df-31c5-49b3-983f-f00535e3c0d3",
   "metadata": {
    "tags": []
   },
   "outputs": [],
   "source": []
  },
  {
   "cell_type": "code",
   "execution_count": 42,
   "id": "82426c1f-df3f-47e2-a062-aba6af23f258",
   "metadata": {
    "tags": []
   },
   "outputs": [],
   "source": []
  },
  {
   "cell_type": "code",
   "execution_count": null,
   "id": "84ef7662-6b0e-40c4-967a-c7108626f0a2",
   "metadata": {},
   "outputs": [],
   "source": []
  }
 ],
 "metadata": {
  "kernelspec": {
   "display_name": "Python 3 (ipykernel)",
   "language": "python",
   "name": "python3"
  },
  "language_info": {
   "codemirror_mode": {
    "name": "ipython",
    "version": 3
   },
   "file_extension": ".py",
   "mimetype": "text/x-python",
   "name": "python",
   "nbconvert_exporter": "python",
   "pygments_lexer": "ipython3",
   "version": "3.11.5"
  }
 },
 "nbformat": 4,
 "nbformat_minor": 5
}
