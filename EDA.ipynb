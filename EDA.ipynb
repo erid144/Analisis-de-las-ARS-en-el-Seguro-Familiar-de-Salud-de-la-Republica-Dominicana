{
 "cells": [
  {
   "cell_type": "code",
   "execution_count": 1,
   "id": "4f4d3143-8a86-411d-84e7-4cb928207ef9",
   "metadata": {
    "tags": []
   },
   "outputs": [
    {
     "name": "stdout",
     "output_type": "stream",
     "text": [
      "The following libraries are not installed and will be installed:\n",
      "scikit-learn\n"
     ]
    }
   ],
   "source": [
    "import sys\n",
    "sys.path.append('src')\n",
    "sys.path.append('models')\n",
    "sys.path.append('data')\n",
    "from librerias import *\n",
    "from utils import *\n",
    "%load_ext autoreload\n",
    "%autoreload 2\n",
    "#generate_requirements_txt(\"requirements.txt\")\n",
    "#install_requirements()\n"
   ]
  },
  {
   "cell_type": "code",
   "execution_count": 2,
   "id": "06b7c228-4e6e-4713-8474-81ec80835b45",
   "metadata": {
    "tags": []
   },
   "outputs": [],
   "source": [
    "%reload_ext autoreload"
   ]
  },
  {
   "cell_type": "markdown",
   "id": "4f5bc874-4329-4c6f-971b-31c8e94cdf89",
   "metadata": {
    "jp-MarkdownHeadingCollapsed": true,
    "tags": []
   },
   "source": [
    "# Transformacion de la Data"
   ]
  },
  {
   "cell_type": "markdown",
   "id": "5ce71737-f163-48a6-8133-13191c73dd47",
   "metadata": {
    "jp-MarkdownHeadingCollapsed": true,
    "tags": []
   },
   "source": [
    "## Afiliados"
   ]
  },
  {
   "cell_type": "code",
   "execution_count": 3,
   "id": "3a84cf3c-0880-4866-bb4b-425bde7c31d4",
   "metadata": {},
   "outputs": [],
   "source": [
    "extraer_afiliados()"
   ]
  },
  {
   "cell_type": "code",
   "execution_count": 4,
   "id": "4f20626d-1b09-4e3d-b8bf-7851db43ca9c",
   "metadata": {
    "tags": []
   },
   "outputs": [],
   "source": [
    "#data_path=\"data/SISALRIL/afiliacion/Afiliacion_RC_PBS_02.xlsx\"\n",
    "datafile ='data/SISALRIL/afiliacion/RC_Afiliados_Edad_Sexo.csv'\n",
    "#Extraer_Afiliados_Edad_Sexo(data_path,  archivocsv=datafile)\n",
    "df_RC_Afiliados_Edad_Sexo = pd.read_csv(datafile)\n",
    "#df_RC_Afiliados_Edad_Sexo.info()"
   ]
  },
  {
   "cell_type": "code",
   "execution_count": 5,
   "id": "19d9a222-a945-45b7-b947-110ed80124bf",
   "metadata": {
    "tags": []
   },
   "outputs": [],
   "source": [
    "#data_path = \"data/SISALRIL/afiliacion/Afiliacion_RC_PBS_03.xlsx\"\n",
    "datafile = 'data/SISALRIL/afiliacion/RC_TasaDependencia_RC_ARS.csv'\n",
    "#Extraer_TasaDependencia_RC_ARS(data_path,  archivocsv=datafile)\n",
    "df_RC_TasaDependencia_RC_ARS = pd.read_csv(datafile)\n",
    "#df_RC_TasaDependencia_RC_ARS.info()"
   ]
  },
  {
   "cell_type": "code",
   "execution_count": 6,
   "id": "23fbcca9-6ca2-4be7-a5a5-a69a2213c359",
   "metadata": {
    "tags": []
   },
   "outputs": [],
   "source": [
    "#data_path = \"data/SISALRIL/afiliacion/Afiliacion_RC_PBS_07.xlsx\"\n",
    "datafile= 'data/SISALRIL/afiliacion/RC_AfiliadosCotizantes_Edad_Sexo.csv'\n",
    "#Extraer_AfiliadosCotizantes_Edad_Sexo(data_path,  archivocsv=datafile)\n",
    "df_RC_AfiliadosCotizantes_Edad_Sexo = pd.read_csv(datafile)\n",
    "df_RC_AfiliadosCotizantes_Edad_Sexo['Cotizante'] = 'SI'\n",
    "#df_RC_AfiliadosCotizantes_Edad_Sexo.info()\n",
    "\n",
    "# data_path = \"data/SISALRIL/afiliacion/Afiliacion_RC_PBS_08.xlsx\"\n",
    "datafile= 'data/SISALRIL/afiliacion/RC_AfiliadosNoCotizantes_Edad_Sexo.csv'\n",
    "# Extraer_AfiliadosNoCotizantes_Edad_Sexo(data_path,  archivocsv=datafile)\n",
    "df_RC_AfiliadosNoCotizantes_Edad_Sexo = pd.read_csv(datafile)\n",
    "df_RC_AfiliadosNoCotizantes_Edad_Sexo['Cotizante'] = 'NO'\n",
    "#df_RC_AfiliadosNoCotizantes_Edad_Sexo.info()"
   ]
  },
  {
   "cell_type": "code",
   "execution_count": 7,
   "id": "7f164df1-34b2-4d3c-88ae-386f6a866026",
   "metadata": {
    "tags": []
   },
   "outputs": [
    {
     "name": "stdout",
     "output_type": "stream",
     "text": [
      "<class 'pandas.core.frame.DataFrame'>\n",
      "RangeIndex: 780 entries, 0 to 779\n",
      "Data columns (total 26 columns):\n",
      " #   Column                Non-Null Count  Dtype  \n",
      "---  ------                --------------  -----  \n",
      " 0   Periodo de Cobertura  780 non-null    object \n",
      " 1   Total Cotizantes      390 non-null    float64\n",
      " 2   15-19                 780 non-null    int64  \n",
      " 3   20-24                 780 non-null    int64  \n",
      " 4   25-29                 780 non-null    int64  \n",
      " 5   30-34                 780 non-null    int64  \n",
      " 6   35-39                 780 non-null    int64  \n",
      " 7   40-44                 780 non-null    int64  \n",
      " 8   45-49                 780 non-null    int64  \n",
      " 9   50-54                 780 non-null    int64  \n",
      " 10  55-59                 780 non-null    int64  \n",
      " 11  60-64                 780 non-null    int64  \n",
      " 12  65-69                 780 non-null    int64  \n",
      " 13  70-74                 780 non-null    int64  \n",
      " 14  75-79                 780 non-null    int64  \n",
      " 15  80-84                 780 non-null    int64  \n",
      " 16  85 y mas              780 non-null    int64  \n",
      " 17  No Especificada       390 non-null    float64\n",
      " 18  Year                  780 non-null    int64  \n",
      " 19  Month                 780 non-null    int64  \n",
      " 20  Sexo                  780 non-null    object \n",
      " 21  Cotizante             780 non-null    object \n",
      " 22  Total Afiliados       390 non-null    float64\n",
      " 23  0-4                   390 non-null    float64\n",
      " 24  5-9                   390 non-null    float64\n",
      " 25  10-14                 390 non-null    float64\n",
      "dtypes: float64(6), int64(17), object(3)\n",
      "memory usage: 158.6+ KB\n",
      "None\n"
     ]
    }
   ],
   "source": [
    "\n",
    "# Cargar los DataFrames\n",
    "df1 = df_RC_AfiliadosCotizantes_Edad_Sexo\n",
    "df2 = df_RC_AfiliadosNoCotizantes_Edad_Sexo\n",
    "\n",
    "\n",
    "# Definir el nombre del archivo de salida\n",
    "output_file = 'data/SISALRIL/financiamiento/Afiliados_Edad_Sexo_Cotizacion.csv'## nombre del archivo CSV a ser guardado\n",
    "df_concatenated = pd.concat([df1, df2],ignore_index=True)\n",
    "print(df_concatenated.info())\n",
    "df_concatenated.to_csv(output_file, index=False)"
   ]
  },
  {
   "cell_type": "code",
   "execution_count": 8,
   "id": "2bd2b9c8-39dd-4520-bc02-e21cf9ee9b73",
   "metadata": {
    "tags": []
   },
   "outputs": [
    {
     "data": {
      "text/plain": [
       "array(['Región Distrito Nacional', 'Región Este', 'Región Norte',\n",
       "       'Región Sur'], dtype=object)"
      ]
     },
     "execution_count": 8,
     "metadata": {},
     "output_type": "execute_result"
    }
   ],
   "source": [
    "# data_path = \"data/SISALRIL/afiliacion/Afiliacion_RC_PBS_04.xlsx\"\n",
    "datafile= 'data/SISALRIL/afiliacion/RC_Tabla_Regiones.csv'\n",
    "# Extraer_Tabla_Regiones(data_path,  archivocsv=datafile)\n",
    "df_RC_Tabla_Regiones = pd.read_csv(datafile)\n",
    "df_RC_Tabla_Regiones['Región Geográfica/2'].unique()\n"
   ]
  },
  {
   "cell_type": "code",
   "execution_count": 9,
   "id": "786abb63-f66f-4006-b96a-7d0b9ff0720f",
   "metadata": {
    "tags": []
   },
   "outputs": [],
   "source": [
    "# data_path = \"data/SISALRIL/afiliacion/Afiliacion_RC_PBS_04.xlsx\"\n",
    "datafile ='data/SISALRIL/afiliacion/RC_Datos_Regionales.csv'\n",
    "# Extraer_datos_regionales(data_path, header_=7, rows_=54-7, archivocsv=datafile)\n",
    "df_RC_Datos_Regionales = pd.read_csv(datafile)\n",
    "#df_RC_Datos_Regionales.info()"
   ]
  },
  {
   "cell_type": "code",
   "execution_count": 10,
   "id": "0fa55978-6448-47d6-ad90-d021809d09b4",
   "metadata": {
    "tags": []
   },
   "outputs": [],
   "source": [
    "# data_path = \"data/SISALRIL/afiliacion/Afiliacion_RC_PBS_05.xlsx\"\n",
    "datafile ='data/SISALRIL/afiliacion/RC_Datos_Regionales_Cotizantes.csv'\n",
    "# Extraer_datos_regionales(data_path, header_=7, rows_=54-7, archivocsv=datafile)\n",
    "df_RC_Datos_Regionales_Cotizantes = pd.read_csv(datafile)\n",
    "df_RC_Datos_Regionales_Cotizantes['Cotizante']='SI'\n",
    "#df_RC_Datos_Regionales_Cotizantes.info()\n",
    "# data_path = \"data/SISALRIL/afiliacion/Afiliacion_RC_PBS_06.xlsx\"\n",
    "datafile ='data/SISALRIL/afiliacion/RC_Datos_Regionales_NoCotizantes.csv'\n",
    "# Extraer_datos_regionales(data_path, header_=6, rows_=54-7, archivocsv=datafile)\n",
    "df_RC_Datos_Regionales_NoCotizantes = pd.read_csv(datafile)\n",
    "df_RC_Datos_Regionales_NoCotizantes['Cotizante']='NO'\n",
    "#df_RC_Datos_Regionales_NoCotizantes.info()"
   ]
  },
  {
   "cell_type": "code",
   "execution_count": 11,
   "id": "6299baf8-6970-4536-b2e2-f8332e265ca3",
   "metadata": {
    "tags": []
   },
   "outputs": [
    {
     "name": "stdout",
     "output_type": "stream",
     "text": [
      "<class 'pandas.core.frame.DataFrame'>\n",
      "RangeIndex: 392 entries, 0 to 391\n",
      "Data columns (total 51 columns):\n",
      " #   Column                          Non-Null Count  Dtype \n",
      "---  ------                          --------------  ----- \n",
      " 0   Total general                   392 non-null    int64 \n",
      " 1   Total Región Distrito Nacional  392 non-null    int64 \n",
      " 2   Total 0 - Santo Domingo         392 non-null    int64 \n",
      " 3   Distrito Nacional               392 non-null    int64 \n",
      " 4   Monte Plata                     392 non-null    int64 \n",
      " 5   Santo Domingo                   392 non-null    int64 \n",
      " 6   Total Región Este               392 non-null    int64 \n",
      " 7   Total V - Este                  392 non-null    int64 \n",
      " 8   El Seybo                        392 non-null    int64 \n",
      " 9   Hato Mayor del Rey              392 non-null    int64 \n",
      " 10  La Altagracia                   392 non-null    int64 \n",
      " 11  La Romana                       392 non-null    int64 \n",
      " 12  San Pedro de Macorís            392 non-null    int64 \n",
      " 13  Total Región Norte              392 non-null    int64 \n",
      " 14  Total II - Norcentral           392 non-null    int64 \n",
      " 15  Espaillat                       392 non-null    int64 \n",
      " 16  Puerto Plata                    392 non-null    int64 \n",
      " 17  Santiago                        392 non-null    int64 \n",
      " 18  Total III - Nordeste            392 non-null    int64 \n",
      " 19  Duarte                          392 non-null    int64 \n",
      " 20  Hermanas Mirabal                392 non-null    int64 \n",
      " 21  Maria Trinidad Sanchez          392 non-null    int64 \n",
      " 22  Samana                          392 non-null    int64 \n",
      " 23  Total VII - Cibao Occidental    392 non-null    int64 \n",
      " 24  Dajabon                         392 non-null    int64 \n",
      " 25  Montecristi                     392 non-null    int64 \n",
      " 26  Santiago Rodriguez              392 non-null    int64 \n",
      " 27  Valverde                        392 non-null    int64 \n",
      " 28  Total VIII - Cibao Central      392 non-null    int64 \n",
      " 29  La vega                         392 non-null    int64 \n",
      " 30  Monseñor Nouel                  392 non-null    int64 \n",
      " 31  Sanchez Ramirez                 392 non-null    int64 \n",
      " 32  Total Región Sur                392 non-null    int64 \n",
      " 33  Total I - Valdesia              392 non-null    int64 \n",
      " 34  Peravia                         392 non-null    int64 \n",
      " 35  San Cristóbal                   392 non-null    int64 \n",
      " 36  San Jose de Ocoa                392 non-null    int64 \n",
      " 37  Total IV - Enriquillo           392 non-null    int64 \n",
      " 38  Bahoruco                        392 non-null    int64 \n",
      " 39  Barahona                        392 non-null    int64 \n",
      " 40  Independencia                   392 non-null    int64 \n",
      " 41  Pedernales                      392 non-null    int64 \n",
      " 42  Total VI - El Valle             392 non-null    int64 \n",
      " 43  Azua                            392 non-null    int64 \n",
      " 44  Elias Piña                      392 non-null    int64 \n",
      " 45  San Juan de la Maguana          392 non-null    int64 \n",
      " 46  No Especificada                 392 non-null    int64 \n",
      " 47  Month                           392 non-null    int64 \n",
      " 48  Year                            392 non-null    int64 \n",
      " 49  Periodo de Cobertura            392 non-null    object\n",
      " 50  Cotizante                       392 non-null    object\n",
      "dtypes: int64(49), object(2)\n",
      "memory usage: 156.3+ KB\n",
      "None\n"
     ]
    }
   ],
   "source": [
    "\n",
    "# Cargar los DataFrames\n",
    "df1 = df_RC_Datos_Regionales_Cotizantes\n",
    "df2 = df_RC_Datos_Regionales_NoCotizantes\n",
    "# Corregir los nombres de las columnas con los acentos adecuados\n",
    "df1 = df1.rename(columns={'Samaná': 'Samana', 'San José de Ocoa': 'San Jose de Ocoa','San jose de Ocoa': 'San Jose de Ocoa'})\n",
    "df2 = df2.rename(columns={'Samaná': 'Samana', 'San José de Ocoa': 'San Jose de Ocoa','San jose de Ocoa': 'San Jose de Ocoa'})\n",
    "\n",
    "\n",
    "# Definir el nombre del archivo de salida\n",
    "output_file = 'data/SISALRIL/financiamiento/RC_Datos_Regionales_Cotizacion.csv'## nombre del archivo CSV a ser guardado\n",
    "df_concatenated = pd.concat([df1, df2],ignore_index=True)\n",
    "print(df_concatenated.info())\n",
    "df_concatenated.to_csv(output_file, index=False)"
   ]
  },
  {
   "cell_type": "code",
   "execution_count": 12,
   "id": "7e20f984-29a2-4c57-a5b1-db79053b432e",
   "metadata": {
    "tags": []
   },
   "outputs": [
    {
     "name": "stdout",
     "output_type": "stream",
     "text": [
      "<class 'pandas.core.frame.DataFrame'>\n",
      "RangeIndex: 392 entries, 0 to 391\n",
      "Data columns (total 18 columns):\n",
      " #   Column                          Non-Null Count  Dtype \n",
      "---  ------                          --------------  ----- \n",
      " 0   Periodo de Cobertura            392 non-null    object\n",
      " 1   Year                            392 non-null    int64 \n",
      " 2   Month                           392 non-null    int64 \n",
      " 3   Total general                   392 non-null    int64 \n",
      " 4   Total Región Distrito Nacional  392 non-null    int64 \n",
      " 5   Total 0 - Santo Domingo         392 non-null    int64 \n",
      " 6   Total Región Este               392 non-null    int64 \n",
      " 7   Total V - Este                  392 non-null    int64 \n",
      " 8   Total Región Norte              392 non-null    int64 \n",
      " 9   Total II - Norcentral           392 non-null    int64 \n",
      " 10  Total III - Nordeste            392 non-null    int64 \n",
      " 11  Total VII - Cibao Occidental    392 non-null    int64 \n",
      " 12  Total VIII - Cibao Central      392 non-null    int64 \n",
      " 13  Total Región Sur                392 non-null    int64 \n",
      " 14  Total I - Valdesia              392 non-null    int64 \n",
      " 15  Total IV - Enriquillo           392 non-null    int64 \n",
      " 16  Total VI - El Valle             392 non-null    int64 \n",
      " 17  Cotizante                       392 non-null    object\n",
      "dtypes: int64(16), object(2)\n",
      "memory usage: 55.3+ KB\n",
      "None\n"
     ]
    }
   ],
   "source": [
    "df1 = df_RC_Datos_Regionales_Cotizantes\n",
    "df2 = df_RC_Datos_Regionales_NoCotizantes\n",
    "\n",
    "# Agregar la columna 'Cotizante' a cada DataFrame\n",
    "df1['Cotizante'] = 'SI'\n",
    "df2['Cotizante'] = 'NO'\n",
    "\n",
    "# Corregir los nombres de las columnas con los acentos adecuados\n",
    "df1 = df1.rename(columns={'Samaná': 'Samana', 'San José de Ocoa': 'San Jose de Ocoa', 'San jose de Ocoa': 'San Jose de Ocoa'})\n",
    "df2 = df2.rename(columns={'Samaná': 'Samana', 'San José de Ocoa': 'San Jose de Ocoa', 'San jose de Ocoa': 'San Jose de Ocoa'})\n",
    "\n",
    "# Concatenar los DataFrames\n",
    "df_concatenated = pd.concat([df1, df2], ignore_index=True)\n",
    "\n",
    "# Definir el nombre del archivo de salida\n",
    "output_file = 'data/SISALRIL/financiamiento/RC_Datos_Regionales_Cotizacion.csv'\n",
    "df_concatenated.to_csv(output_file, index=False)\n",
    "\n",
    "# Seleccionar solo las columnas que contienen la palabra \"Total\"\n",
    "columnas_totales = [col for col in df_concatenated.columns if 'Total' in col]\n",
    "columnas_totales.append('Cotizante')\n",
    "\n",
    "# Filtrar las columnas necesarias en los DataFrames filtrados\n",
    "df_RC_Datos_Regionales_Total = df_concatenated[['Periodo de Cobertura', 'Year', 'Month'] + columnas_totales]\n",
    "\n",
    "# Guardar el DataFrame merge en un archivo CSV\n",
    "nombre_df_merge = \"RC_Region_Salud_Total\"\n",
    "ruta_archivo_csv = f\"data/SISALRIL/afiliacion/{nombre_df_merge}.csv\"\n",
    "df_RC_Datos_Regionales_Total.to_csv(ruta_archivo_csv, index=False)\n",
    "\n",
    "# Mostrar información del DataFrame\n",
    "print(df_RC_Datos_Regionales_Total.info())"
   ]
  },
  {
   "cell_type": "code",
   "execution_count": 13,
   "id": "8062c00b-1549-4ce5-9d9f-11fe91e8fc47",
   "metadata": {
    "tags": []
   },
   "outputs": [
    {
     "name": "stdout",
     "output_type": "stream",
     "text": [
      "<class 'pandas.core.frame.DataFrame'>\n",
      "RangeIndex: 392 entries, 0 to 391\n",
      "Data columns (total 9 columns):\n",
      " #   Column                          Non-Null Count  Dtype \n",
      "---  ------                          --------------  ----- \n",
      " 0   Periodo de Cobertura            392 non-null    object\n",
      " 1   Year                            392 non-null    int64 \n",
      " 2   Month                           392 non-null    int64 \n",
      " 3   Total general                   392 non-null    int64 \n",
      " 4   Cotizante                       392 non-null    object\n",
      " 5   Total Región Distrito Nacional  392 non-null    int64 \n",
      " 6   Total Región Este               392 non-null    int64 \n",
      " 7   Total Región Norte              392 non-null    int64 \n",
      " 8   Total Región Sur                392 non-null    int64 \n",
      "dtypes: int64(7), object(2)\n",
      "memory usage: 27.7+ KB\n"
     ]
    }
   ],
   "source": [
    "merged_df = df_concatenated\n",
    "# Filtrar las columnas necesarias después del merge\n",
    "regiones_geograficas = df_RC_Tabla_Regiones['Región Geográfica/2'].unique()\n",
    "columnas_regionales = [col for col in merged_df.columns if any(region in col for region in regiones_geograficas)]\n",
    "columnas_totales_generales = [col for col in merged_df.columns if 'Total general' in col]\n",
    "columnas_totales_generales.append('Cotizante')\n",
    "merged_df = merged_df[['Periodo de Cobertura', 'Year', 'Month'] + columnas_totales_generales + columnas_regionales]\n",
    "\n",
    "nombre_df_merge = \"RC_Region_Geografica_Total_Combinado\"\n",
    "# Guardar el DataFrame merge en un archivo CSV\n",
    "ruta_archivo_csv = f\"data/SISALRIL/afiliacion/{nombre_df_merge}.csv\"\n",
    "merged_df.to_csv(ruta_archivo_csv, index=False)\n",
    "merged_df.info()"
   ]
  },
  {
   "cell_type": "code",
   "execution_count": 14,
   "id": "0414f293-d6df-4cfd-bf29-f285a2e6ae72",
   "metadata": {
    "tags": []
   },
   "outputs": [],
   "source": [
    "# data_path = \"data/SISALRIL/afiliacion/Afiliacion_SFS_PBS_03.xlsx\"\n",
    "datafile = 'data/SISALRIL/afiliacion/SFS_Afiliacion_Tasa_Regimen.csv'\n",
    "# Extraer_SFS_Afiliacion_Tasa_Regimen(data_path,  archivocsv=datafile)\n",
    "df_SFS_Afiliacion_Tasa_Regimen = pd.read_csv(datafile)\n",
    "#df_SFS_Afiliacion_Tasa_Regimen.info()\n",
    "\n",
    "# data_path = \"data/SISALRIL/afiliacion/Afiliacion_SFS_PBS_05.xlsx\"\n",
    "datafile = 'data/SISALRIL/afiliacion/SFS_Regimen_Sexo.csv'\n",
    "# Extraer_SFS_Regimen_Sexo(data_path,  archivocsv=datafile)\n",
    "df_SFS_Regimen_Sexo = pd.read_csv(datafile)\n",
    "#df_SFS_Regimen_Sexo.info()\n",
    "\n",
    "# data_path = \"data/SISALRIL/afiliacion/Afiliacion_SFS_PBS_07.xlsx\"\n",
    "datafile = 'data/SISALRIL/afiliacion/SFS_Porcentaje_Regimen.csv'\n",
    "# Extraer_SFS_Porcentaje_Regimen(data_path,  archivocsv=datafile)\n",
    "df_SFS_Porcentaje_Regimen = pd.read_csv(datafile)\n",
    "#df_SFS_Porcentaje_Regimen.info()\n",
    "\n"
   ]
  },
  {
   "cell_type": "code",
   "execution_count": 15,
   "id": "3b4c579a-68ae-4754-bec3-81df7f362f07",
   "metadata": {
    "tags": []
   },
   "outputs": [
    {
     "name": "stdout",
     "output_type": "stream",
     "text": [
      "<class 'pandas.core.frame.DataFrame'>\n",
      "Int64Index: 196 entries, 0 to 195\n",
      "Data columns (total 22 columns):\n",
      " #   Column                                       Non-Null Count  Dtype  \n",
      "---  ------                                       --------------  -----  \n",
      " 0   Periodo de Cobertura                         196 non-null    object \n",
      " 1   SFS_Total                                    196 non-null    int64  \n",
      " 2   SFS_Hombres                                  196 non-null    int64  \n",
      " 3   SFS_Mujeres                                  196 non-null    int64  \n",
      " 4   Reg_Subsidiado_Total                         196 non-null    int64  \n",
      " 5   Reg_Subsidiado_Hombres                       196 non-null    int64  \n",
      " 6   Reg_Subsidiado_Mujeres                       196 non-null    int64  \n",
      " 7   RC_Total                                     196 non-null    int64  \n",
      " 8   RC_Hombres                                   196 non-null    int64  \n",
      " 9   RC_Mujeres                                   196 non-null    int64  \n",
      " 10  Year                                         196 non-null    int64  \n",
      " 11  Month                                        196 non-null    int64  \n",
      " 12  Poblacion Total proyectada                   196 non-null    int64  \n",
      " 13  Porcentaje de Población Cubierta por el SFS  196 non-null    float64\n",
      " 14  Total Seguro Familiar de Salud               196 non-null    int64  \n",
      " 15  Reg_Subsidiado                               196 non-null    int64  \n",
      " 16  Reg_Contributivo                             196 non-null    float64\n",
      " 17  Reg_PensionadosJub                           175 non-null    float64\n",
      " 18  SFS                                          196 non-null    float64\n",
      " 19  Tasa_Dep_Regimen_Subsidiado                  196 non-null    float64\n",
      " 20  RC_Tasa_Dependencia                          196 non-null    float64\n",
      " 21  RC_Tasa_Dependencia_Directa                  196 non-null    float64\n",
      "dtypes: float64(7), int64(14), object(1)\n",
      "memory usage: 35.2+ KB\n",
      "None\n"
     ]
    }
   ],
   "source": [
    "\n",
    "#merge_and_save_dataframes(dfs, output_file, on_columns, suffixes):\n",
    "# Cargar los DataFrames\n",
    "df1 = df_SFS_Regimen_Sexo\n",
    "df2 = df_SFS_Porcentaje_Regimen\n",
    "df3 = df_SFS_Afiliacion_Tasa_Regimen\n",
    "\n",
    "# Definir el nombre del archivo de salida\n",
    "output_file = 'data/SISALRIL/financiamiento/SFS_Regimen_Sexo_Porcentaje_Tasa.csv'\n",
    "# Definir las columnas para realizar la unión\n",
    "on_columns = [\"Periodo de Cobertura\", \"Year\", \"Month\"]\n",
    "\n",
    "# Definir los sufijos para las columnas de los DataFrames\n",
    "suffixes = ('_Regimen_Sexo', '_Porcentaje','tasa_regimen')\n",
    "\n",
    "# Llamar a la función para unir y guardar los DataFrames\n",
    "merge_and_save_dataframes([df1, df2,df3], output_file, on_columns, suffixes)"
   ]
  },
  {
   "cell_type": "code",
   "execution_count": 16,
   "id": "bf5ed616-d80c-4c4c-a4c2-aac23d5643ce",
   "metadata": {
    "tags": []
   },
   "outputs": [],
   "source": [
    "# Tablas seleccionadas\n",
    "output_file = 'data/SISALRIL/financiamiento/Afiliados_Edad_Sexo_Cotizacion.csv'## nombre del archivo CSV a ser guardado\n",
    "datafile= 'data/SISALRIL/afiliacion/RC_Tabla_Regiones.csv'\n",
    "output_file = 'data/SISALRIL/financiamiento/RC_Datos_Regionales_Cotizacion.csv'## nombre del archivo CSV a ser guardado\n",
    "#nombre_df_merge = \"\" ruta_archivo_csv = f\"data/SISALRIL/afiliacion/{nombre_df_merge}.csv\"\n",
    "file =\"data/SISALRIL/afiliacion/RC_Region_Salud_Total.csv\"\n",
    "#nombre_df_merge = \"RC_Region_Geografica_Total_Combinado\"ruta_archivo_csv = f\"data/SISALRIL/afiliacion/{nombre_df_merge}.csv\"\n",
    "file =\"data/SISALRIL/afiliacion/RC_Region_Geografica_Total_Combinado.csv\"\n",
    "output_file = 'data/SISALRIL/financiamiento/SFS_Regimen_Sexo_Porcentaje_Tasa.csv'"
   ]
  },
  {
   "cell_type": "markdown",
   "id": "62ec9b5c-c8e1-4b68-b9f1-ad6edb5a67bf",
   "metadata": {
    "jp-MarkdownHeadingCollapsed": true,
    "tags": []
   },
   "source": [
    "## Financiamiento\n"
   ]
  },
  {
   "cell_type": "code",
   "execution_count": 17,
   "id": "2a5903be-041e-4b48-b18c-f05b37368001",
   "metadata": {
    "tags": []
   },
   "outputs": [],
   "source": [
    "extraer_financiamiento()"
   ]
  },
  {
   "cell_type": "code",
   "execution_count": 18,
   "id": "27cd2072-a8c6-4fbe-91e4-f9845b23cf96",
   "metadata": {
    "tags": []
   },
   "outputs": [],
   "source": [
    "data_path = \"data/SISALRIL/financiamiento/Financiamiento_RC_PBS_01.xlsx\"\n",
    "datafile = 'data/SISALRIL/financiamiento/CapitasDispersadoARS_TipoAfiliado_postMes.csv'\n",
    "\n",
    "df_RC_CapitasDispersadoARS_TipoAfiliado_postMes = pd.read_csv(datafile)\n",
    "#print(df_RC_CapitasDispersadoARS_TipoAfiliado_postMes.info())\n",
    "\n",
    "data_path = \"data/SISALRIL/financiamiento/Financiamiento_RC_PBS_01.xlsx\"\n",
    "datafile = 'data/SISALRIL/financiamiento/MontoDispersadoARS_TipoAfiliado_postMes.csv'\n",
    "df_RC_MontoDispersadoARS_TipoAfiliado_postMes = pd.read_csv(datafile)\n",
    "df = df_RC_MontoDispersadoARS_TipoAfiliado_postMes\n",
    "\n",
    "nuevas_columnas = {col: col.replace(\"Capitas\", \"Monto\") for col in df.columns}\n",
    "df = df.rename(columns=nuevas_columnas)\n",
    "df_RC_MontoDispersadoARS_TipoAfiliado_postMes =df\n",
    "df.to_csv(datafile, index=False)\n",
    "#print(df_RC_MontoDispersadoARS_TipoAfiliado_postMes.info())\n",
    "\n"
   ]
  },
  {
   "cell_type": "code",
   "execution_count": 19,
   "id": "8d46b5b4-d285-4b9e-837b-18e5bbdf4ca3",
   "metadata": {
    "tags": []
   },
   "outputs": [
    {
     "name": "stdout",
     "output_type": "stream",
     "text": [
      "<class 'pandas.core.frame.DataFrame'>\n",
      "Int64Index: 196 entries, 0 to 195\n",
      "Data columns (total 27 columns):\n",
      " #   Column                                       Non-Null Count  Dtype \n",
      "---  ------                                       --------------  ----- \n",
      " 0   Periodo de Cobertura                         196 non-null    object\n",
      " 1   Total_Capitas_Dispersadas                    196 non-null    int64 \n",
      " 2   Total_Capitas_Dispersada_mes                 196 non-null    int64 \n",
      " 3   Total_Capitas_Dispersada_posterior           196 non-null    int64 \n",
      " 4   Titulares_Total_capitas                      196 non-null    int64 \n",
      " 5   Titulares_Dispersadas_mes_capitas            196 non-null    int64 \n",
      " 6   Titulares_Dispersadas_posterior_capitas      196 non-null    int64 \n",
      " 7   Dependientes_Total_capitas                   196 non-null    int64 \n",
      " 8   Dependientes_Dispersadas_mes_capitas         196 non-null    int64 \n",
      " 9   Dependientess_Dispersadas_posterior_capitas  196 non-null    int64 \n",
      " 10  Adicionales_Total_capitas                    196 non-null    int64 \n",
      " 11  Adicionales_Dispersadas_mes_capitas          196 non-null    int64 \n",
      " 12  Adicionales_Dispersadas_posterior_capitas    196 non-null    int64 \n",
      " 13  Year                                         196 non-null    int64 \n",
      " 14  Month                                        196 non-null    int64 \n",
      " 15  Total_Monto_Dispersadas                      196 non-null    int64 \n",
      " 16  Total_Monto_Dispersada_mes                   196 non-null    int64 \n",
      " 17  Total_Monto_Dispersada_posterior             196 non-null    int64 \n",
      " 18  Titulares_Total_monto                        196 non-null    int64 \n",
      " 19  Titulares_Dispersadas_mes_monto              196 non-null    int64 \n",
      " 20  Titulares_Dispersadas_posterior_monto        196 non-null    int64 \n",
      " 21  Dependientes_Total_monto                     196 non-null    int64 \n",
      " 22  Dependientes_Dispersadas_mes_monto           196 non-null    int64 \n",
      " 23  Dependientess_Dispersadas_posterior_monto    196 non-null    int64 \n",
      " 24  Adicionales_Total_monto                      196 non-null    int64 \n",
      " 25  Adicionales_Dispersadas_mes_monto            196 non-null    int64 \n",
      " 26  Adicionales_Dispersadas_posterior_monto      196 non-null    int64 \n",
      "dtypes: int64(26), object(1)\n",
      "memory usage: 42.9+ KB\n",
      "None\n"
     ]
    }
   ],
   "source": [
    "\n",
    "#merge_and_save_dataframes(dfs, output_file, on_columns, suffixes):\n",
    "# Cargar los DataFrames\n",
    "df1 = df_RC_CapitasDispersadoARS_TipoAfiliado_postMes\n",
    "df2 = df_RC_MontoDispersadoARS_TipoAfiliado_postMes\n",
    "\n",
    "\n",
    "# Definir el nombre del archivo de salida\n",
    "output_file = 'data/SISALRIL/financiamiento/Financiamiento_DispersadoARS_TipoAfiliado_postMes.csv'\n",
    "# Definir las columnas para realizar la unión\n",
    "on_columns = [\"Periodo de Cobertura\", \"Year\", \"Month\"]\n",
    "\n",
    "# Definir los sufijos para las columnas de los DataFrames\n",
    "suffixes = ('_capitas', '_monto')\n",
    "\n",
    "# Llamar a la función para unir y guardar los DataFrames\n",
    "merge_and_save_dataframes([df1, df2], output_file, on_columns, suffixes)\n"
   ]
  },
  {
   "cell_type": "code",
   "execution_count": null,
   "id": "a4c6b5b3-d556-46a6-82b1-c5e5a292738f",
   "metadata": {
    "tags": []
   },
   "outputs": [],
   "source": []
  },
  {
   "cell_type": "code",
   "execution_count": null,
   "id": "91062c87-8af0-4fbe-af23-9a206930bb1a",
   "metadata": {},
   "outputs": [],
   "source": []
  },
  {
   "cell_type": "code",
   "execution_count": 20,
   "id": "5a24c9b0-6c08-4d83-808c-7cba06d45e2c",
   "metadata": {
    "tags": []
   },
   "outputs": [],
   "source": [
    "data_path = \"data/SISALRIL/financiamiento/Financiamiento_RC_PBS_03.xlsx\"\n",
    "datafile = 'data/SISALRIL/financiamiento/CapitasDispersadoARS_Autogestion_postMes.csv'\n",
    "df_RC_CapitasDispersadoARS_Autogestion_postMes = pd.read_csv(datafile)\n",
    "#print(df_RC_CapitasDispersadoARS_Autogestion_postMes.info())\n",
    "\n",
    "data_path = \"data/SISALRIL/financiamiento/Financiamiento_RC_PBS_03.xlsx\"\n",
    "datafile = 'data/SISALRIL/financiamiento/MontoDispersadoARS_Autogestion_postMes.csv'\n",
    "df_RC_MontoDispersadoARS_Autogestion_postMes = pd.read_csv(datafile)\n",
    "df = df_RC_MontoDispersadoARS_Autogestion_postMes\n",
    "nuevas_columnas = {col: col.replace(\"Capitas\", \"Monto\") for col in df.columns}\n",
    "df = df.rename(columns=nuevas_columnas)\n",
    "df_RC_MontoDispersadoARS_Autogestion_postMes =df\n",
    "df.to_csv(datafile, index=False)\n",
    "#print(df_RC_MontoDispersadoARS_Autogestion_postMes.info())"
   ]
  },
  {
   "cell_type": "code",
   "execution_count": 21,
   "id": "3b18165c-5c20-4ec8-82fc-c44a813ab360",
   "metadata": {
    "tags": []
   },
   "outputs": [],
   "source": [
    "# Cargar los DataFrames\n",
    "df1 = df_RC_CapitasDispersadoARS_Autogestion_postMes\n",
    "df2 = df_RC_MontoDispersadoARS_Autogestion_postMes\n",
    "\n",
    "\n",
    "# Realizar la unión de los DataFrames\n",
    "df_union = pd.merge(df1, df2, on=[\"Periodo de Cobertura\", \"Year\", \"Month\"],suffixes=('_capitas', '_monto'))\n",
    "\n",
    "# Guardar el resultado en un archivo CSV\n",
    "output_file = 'data/SISALRIL/financiamiento/Financiamiento_DispersadoARS_Autogestion_postMes.csv'\n",
    "df_union['Tipo_de_ARS'] ='Autogestion'\n",
    "#print(df_union.info())\n",
    "df_union.to_csv(output_file, index=False)\n",
    "\n",
    "# Imprimir información "
   ]
  },
  {
   "cell_type": "code",
   "execution_count": 22,
   "id": "2e8dd5f2-7133-4f72-b6c4-750df6bb0f6f",
   "metadata": {
    "tags": []
   },
   "outputs": [],
   "source": [
    "data_path = \"data/SISALRIL/financiamiento/Financiamiento_RC_PBS_04.xlsx\"\n",
    "datafile = 'data/SISALRIL/financiamiento/CapitasDispersadoARS_Privada_postMes.csv'\n",
    "df_RC_CapitasDispersadoARS_Privada_postMes = pd.read_csv(datafile)\n",
    "\n",
    "#print(df_RC_CapitasDispersadoARS_Privada_postMes.info())\n",
    "\n",
    "data_path = \"data/SISALRIL/financiamiento/Financiamiento_RC_PBS_04.xlsx\"\n",
    "datafile = 'data/SISALRIL/financiamiento/MontoDispersadoARS_Privada_postMes.csv'\n",
    "df_RC_MontoDispersadoARS_Privada_postMes = pd.read_csv(datafile)\n",
    "df = df_RC_MontoDispersadoARS_Privada_postMes\n",
    "nuevas_columnas = {col: col.replace(\"Capitas\", \"Monto\") for col in df.columns}\n",
    "df = df.rename(columns=nuevas_columnas)\n",
    "df_RC_MontoDispersadoARS_Privada_postMes =df\n",
    "df.to_csv(datafile, index=False)\n",
    "#print(df_RC_MontoDispersadoARS_Privada_postMes.info())"
   ]
  },
  {
   "cell_type": "code",
   "execution_count": 23,
   "id": "42b75696-53de-4798-84b3-d835d6d41b41",
   "metadata": {
    "tags": []
   },
   "outputs": [],
   "source": [
    "# Cargar los DataFrames\n",
    "df1 = df_RC_CapitasDispersadoARS_Privada_postMes\n",
    "df2 = df_RC_MontoDispersadoARS_Privada_postMes\n",
    "\n",
    "\n",
    "# Realizar la unión de los DataFrames\n",
    "df_union = pd.merge(df1, df2, on=[\"Periodo de Cobertura\", \"Year\", \"Month\"],suffixes=('_capitas', '_monto'))\n",
    "\n",
    "# Guardar el resultado en un archivo CSV\n",
    "output_file = 'data/SISALRIL/financiamiento/Financiamiento_DispersadoARS_Privada_postMes.csv'\n",
    "df_union['Tipo_de_ARS'] ='Privada'\n",
    "#print(df_union.info())\n",
    "df_union.to_csv(output_file, index=False)"
   ]
  },
  {
   "cell_type": "code",
   "execution_count": 24,
   "id": "38a3b2f7-22c7-4929-9bac-6c55dae5c84e",
   "metadata": {
    "tags": []
   },
   "outputs": [],
   "source": [
    "data_path = \"data/SISALRIL/financiamiento/Financiamiento_RC_PBS_05.xlsx\"\n",
    "datafile = 'data/SISALRIL/financiamiento/CapitasDispersadoARS_Publicas_postMes.csv'\n",
    "df_RC_CapitasDispersadoARS_Publicas_postMes = pd.read_csv(datafile)\n",
    "#print(df_RC_CapitasDispersadoARS_Publicas_postMes.info())\n",
    "data_path = \"data/SISALRIL/financiamiento/Financiamiento_RC_PBS_05.xlsx\"\n",
    "datafile = 'data/SISALRIL/financiamiento/MontoDispersadoARS_Publicas_postMes.csv'\n",
    "df_RC_MontoDispersadoARS_Publicas_postMes = pd.read_csv(datafile)\n",
    "df = df_RC_MontoDispersadoARS_Publicas_postMes\n",
    "nuevas_columnas = {col: col.replace(\"Capitas\", \"Monto\") for col in df.columns}\n",
    "df = df.rename(columns=nuevas_columnas)\n",
    "df_RC_MontoDispersadoARS_Publicas_postMes =df\n",
    "df.to_csv(datafile, index=False)\n",
    "#print(df_RC_MontoDispersadoARS_Publicas_postMes.info())"
   ]
  },
  {
   "cell_type": "code",
   "execution_count": 25,
   "id": "dd799096-b073-48b4-8132-114e801de1e7",
   "metadata": {
    "tags": []
   },
   "outputs": [],
   "source": [
    "# Cargar los DataFrames\n",
    "df1 = df_RC_CapitasDispersadoARS_Publicas_postMes\n",
    "df2 = df_RC_MontoDispersadoARS_Publicas_postMes\n",
    "\n",
    "\n",
    "# Realizar la unión de los DataFrames\n",
    "df_union = pd.merge(df1, df2, on=[\"Periodo de Cobertura\", \"Year\", \"Month\"],suffixes=('_capitas', '_monto'))\n",
    "\n",
    "# Guardar el resultado en un archivo CSV\n",
    "output_file = 'data/SISALRIL/financiamiento/Financiamiento_DispersadoARS_Publicas_postMes.csv'\n",
    "df_union['Tipo_de_ARS'] ='Publica'\n",
    "#print(df_union.info())\n",
    "df_union.to_csv(output_file, index=False)\n",
    "\n",
    "\n"
   ]
  },
  {
   "cell_type": "code",
   "execution_count": 26,
   "id": "25aaffc3-c597-4d3f-8d08-9d1d3021e6fc",
   "metadata": {},
   "outputs": [
    {
     "name": "stdout",
     "output_type": "stream",
     "text": [
      "<class 'pandas.core.frame.DataFrame'>\n",
      "RangeIndex: 588 entries, 0 to 587\n",
      "Data columns (total 28 columns):\n",
      " #   Column                                       Non-Null Count  Dtype \n",
      "---  ------                                       --------------  ----- \n",
      " 0   Periodo de Cobertura                         588 non-null    object\n",
      " 1   Total_Capitas_Dispersadas                    588 non-null    int64 \n",
      " 2   Total_Capitas_Dispersada_mes                 588 non-null    int64 \n",
      " 3   Total_Capitas_Dispersada_posterior           588 non-null    int64 \n",
      " 4   Titulares_Total_capitas                      588 non-null    int64 \n",
      " 5   Titulares_Dispersadas_mes_capitas            588 non-null    int64 \n",
      " 6   Titulares_Dispersadas_posterior_capitas      588 non-null    int64 \n",
      " 7   Dependientes_Total_capitas                   588 non-null    int64 \n",
      " 8   Dependientes_Dispersadas_mes_capitas         588 non-null    int64 \n",
      " 9   Dependientess_Dispersadas_posterior_capitas  588 non-null    int64 \n",
      " 10  Adicionales_Total_capitas                    588 non-null    int64 \n",
      " 11  Adicionales_Dispersadas_mes_capitas          588 non-null    int64 \n",
      " 12  Adicionales_Dispersadas_posterior_capitas    588 non-null    int64 \n",
      " 13  Year                                         588 non-null    int64 \n",
      " 14  Month                                        588 non-null    int64 \n",
      " 15  Total_Monto_Dispersadas                      588 non-null    int64 \n",
      " 16  Total_Monto_Dispersada_mes                   588 non-null    int64 \n",
      " 17  Total_Monto_Dispersada_posterior             588 non-null    int64 \n",
      " 18  Titulares_Total_monto                        588 non-null    int64 \n",
      " 19  Titulares_Dispersadas_mes_monto              588 non-null    int64 \n",
      " 20  Titulares_Dispersadas_posterior_monto        588 non-null    int64 \n",
      " 21  Dependientes_Total_monto                     588 non-null    int64 \n",
      " 22  Dependientes_Dispersadas_mes_monto           588 non-null    int64 \n",
      " 23  Dependientess_Dispersadas_posterior_monto    588 non-null    int64 \n",
      " 24  Adicionales_Total_monto                      588 non-null    int64 \n",
      " 25  Adicionales_Dispersadas_mes_monto            588 non-null    int64 \n",
      " 26  Adicionales_Dispersadas_posterior_monto      588 non-null    int64 \n",
      " 27  Tipo_de_ARS                                  588 non-null    object\n",
      "dtypes: int64(26), object(2)\n",
      "memory usage: 128.8+ KB\n",
      "None\n"
     ]
    }
   ],
   "source": [
    "output_file1 = 'data/SISALRIL/financiamiento/Financiamiento_DispersadoARS_Autogestion_postMes.csv'\n",
    "output_file2 = 'data/SISALRIL/financiamiento/Financiamiento_DispersadoARS_Privada_postMes.csv'\n",
    "output_file3 = 'data/SISALRIL/financiamiento/Financiamiento_DispersadoARS_Publicas_postMes.csv'\n",
    "\n",
    "\n",
    "# Cargar los DataFrames\n",
    "df1 = pd.read_csv(output_file1)\n",
    "df2 = pd.read_csv(output_file2)\n",
    "df3 = pd.read_csv(output_file3)\n",
    "\n",
    "# Definir las columnas para realizar la unión\n",
    "on_columns = [\"Periodo de Cobertura\", \"Year\", \"Month\"]\n",
    "\n",
    "# Definir el nombre del archivo de salida\n",
    "output_file = 'data/SISALRIL/financiamiento/Financiamiento_Dispersado_TipoARS_postMes.csv'## nombre del archivo CSV a ser guardado\n",
    "df_concatenated = pd.concat([df1, df2, df3],ignore_index=True)\n",
    "print(df_concatenated.info())\n",
    "df_concatenated.to_csv(output_file, index=False)"
   ]
  },
  {
   "cell_type": "code",
   "execution_count": 27,
   "id": "5580e548-24f4-4963-9f07-429826795295",
   "metadata": {
    "tags": []
   },
   "outputs": [],
   "source": [
    "data_path = \"data/SISALRIL/financiamiento/Financiamiento_RC_SFS_01.xlsx\"\n",
    "datafile = 'data/SISALRIL/financiamiento/MontoSFS_Periodo_Cuenta.csv'\n",
    "df_RC_MontoSFS_Periodo_Cuenta = pd.read_csv(datafile)\n",
    "#print(df_RC_MontoSFS_Periodo_Cuenta.info())\n",
    "data_path = \"data/SISALRIL/financiamiento/Financiamiento_SFS_03.xlsx\"\n",
    "datafile = 'data/SISALRIL/financiamiento/SFS_TopeSalarioMinimoContizable.csv'\n",
    "df_RC_SFS_TopeSalarioMinimoContizable = pd.read_csv(datafile)\n",
    "#print(df_RC_SFS_TopeSalarioMinimoContizable.info())"
   ]
  },
  {
   "cell_type": "code",
   "execution_count": 28,
   "id": "a1867355-070e-47b8-abe1-b2813be3263b",
   "metadata": {
    "tags": []
   },
   "outputs": [
    {
     "name": "stdout",
     "output_type": "stream",
     "text": [
      "<class 'pandas.core.frame.DataFrame'>\n",
      "Int64Index: 196 entries, 0 to 195\n",
      "Data columns (total 21 columns):\n",
      " #   Column                                  Non-Null Count  Dtype  \n",
      "---  ------                                  --------------  -----  \n",
      " 0   Periodo de Cobertura                    196 non-null    object \n",
      " 1   Total Empresas con aportes              196 non-null    int64  \n",
      " 2   Recaudo SFS                             196 non-null    float64\n",
      " 3   Cuidado de la Salud                     196 non-null    float64\n",
      " 4   Estancias Infantiles                    196 non-null    float64\n",
      " 5   Subsidios                               196 non-null    float64\n",
      " 6   Comisión Operación SISALRIL             196 non-null    float64\n",
      " 7   Cápita Adicional                        196 non-null    float64\n",
      " 8   Recargo por Atraso en pago de Facturas  196 non-null    float64\n",
      " 9   Year                                    196 non-null    int64  \n",
      " 10  Month                                   196 non-null    int64  \n",
      " 11  Salario Mínimo Cotizable                196 non-null    float64\n",
      " 12  Tope de Salario Mínimo Cotizable        196 non-null    float64\n",
      " 13  Total_Monto_Dispersadas                 196 non-null    int64  \n",
      " 14  Total_Capitas_Titulares                 196 non-null    int64  \n",
      " 15  Total_Capitas_Depend_Directos           196 non-null    int64  \n",
      " 16  Total_Capitas_Depend_Adicionales        196 non-null    int64  \n",
      " 17  Monto_Dispersado_Total                  196 non-null    float64\n",
      " 18  Monto_Dispersado_Titulares              196 non-null    float64\n",
      " 19  Monto_Dispersado_Dep_Directos           196 non-null    float64\n",
      " 20  Monto_Dispersado_Dep_Adicionales        196 non-null    float64\n",
      "dtypes: float64(13), int64(7), object(1)\n",
      "memory usage: 33.7+ KB\n",
      "None\n"
     ]
    }
   ],
   "source": [
    "\n",
    "data_path = \"data/SISALRIL/financiamiento/Financiamiento_RC_PBS_02.xlsx\"\n",
    "datafile = 'data/SISALRIL/financiamiento/MontoDispersado_TipoAfiliado_Periodo.csv'\n",
    "df_RC_MontoDispersado_TipoAfiliado_Periodo = pd.read_csv(datafile)\n",
    "df = df_RC_MontoDispersado_TipoAfiliado_Periodo\n",
    "#nuevas_columnas = {col: col.replace(\"Capitas\", \"Monto\") for col in df.columns}\n",
    "df = df.rename(columns=nuevas_columnas)\n",
    "df_RC_MontoDispersado_TipoAfiliado_Periodo =df\n",
    "df.to_csv(datafile, index=False)\n",
    "#print(df_RC_MontoDispersado_TipoAfiliado_Periodo.info())\n",
    "\n",
    "\n",
    "\n",
    "#merge_and_save_dataframes(dfs, output_file, on_columns, suffixes):\n",
    "# Cargar los DataFrames\n",
    "df1 = df_RC_MontoSFS_Periodo_Cuenta\n",
    "df2 = df_RC_SFS_TopeSalarioMinimoContizable\n",
    "df3 = df_RC_MontoDispersado_TipoAfiliado_Periodo\n",
    "\n",
    "# Definir las columnas para realizar la unión\n",
    "on_columns = [\"Periodo de Cobertura\", \"Year\", \"Month\"]\n",
    "\n",
    "# Definir los sufijos para las columnas de los DataFrames\n",
    "suffixes = ('_capitas', '_monto')\n",
    "\n",
    "# Definir el nombre del archivo de salida\n",
    "output_file = 'data/SISALRIL/financiamiento/Financiamiento_Dispersado_Salario.csv'\n",
    "\n",
    "# Llamar a la función para unir y guardar los DataFrames\n",
    "df_union = merge_and_save_dataframes([df1, df2, df3], output_file, on_columns, suffixes)"
   ]
  },
  {
   "cell_type": "code",
   "execution_count": 29,
   "id": "13a14136-1792-4e8f-8e44-1922ad02e486",
   "metadata": {
    "tags": []
   },
   "outputs": [],
   "source": [
    " names_ =  [\n",
    "                'Ano de Cobertura',    \n",
    "                'Total_Salud (A)',\n",
    "                'PDSS_Subsidiado (A)',\n",
    "                'PDSS_Contributivo (A)',\n",
    "                'Otros_Planes_de_Salud (A)',\n",
    "                'PIB/Precios Corrientes (B)',\n",
    "                'Total en Relación al PIB (A/B)',\n",
    "                'PDSS_Subsidiado en Relación al PIB (A/B)',\n",
    "                'PDSS_Contributivo en Relación al PIB (A/B)',\n",
    "                'Otros_Planes_de_Salud en Relación al PIB (A/B)'\n",
    "            ]\n",
    "data_path = \"data/SISALRIL/financiamiento/Financiamiento_SFS_05.xlsx\"\n",
    "datafile = 'data/SISALRIL/financiamiento/GastoSalud_PIB.csv'\n",
    "##Extraer_FinanciamientoAnual(data_path, header_=9, rows_=23-9, skip=9, columns_=\"A:J\", column_names=names_, archivocsv=datafile)\n",
    "\n",
    "df_RC_GastoSalud_PIB = pd.read_csv(datafile)\n",
    "#print(df_RC_GastoSalud_PIB.head())\n",
    "data_path = \"data/SISALRIL/financiamiento/Financiamiento_SFS_PBS_01.xlsx\"\n",
    "datafile = 'data/SISALRIL/financiamiento/MontoARS_PBS_Regimen.csv'\n",
    "df_RC_MontoARS_PBS_Regimen = pd.read_csv(datafile)\n",
    "#print(df_RC_MontoARS_PBS_Regimen.head())"
   ]
  },
  {
   "cell_type": "code",
   "execution_count": 30,
   "id": "219f47d8-81e9-4246-a87d-7d50b96d5899",
   "metadata": {
    "tags": []
   },
   "outputs": [
    {
     "name": "stdout",
     "output_type": "stream",
     "text": [
      "<class 'pandas.core.frame.DataFrame'>\n",
      "Int64Index: 14 entries, 0 to 13\n",
      "Data columns (total 13 columns):\n",
      " #   Column                                          Non-Null Count  Dtype  \n",
      "---  ------                                          --------------  -----  \n",
      " 0   Ano de Cobertura                                14 non-null     int64  \n",
      " 1   Total_Salud (A)                                 14 non-null     float64\n",
      " 2   PDSS_Subsidiado (A)                             14 non-null     float64\n",
      " 3   PDSS_Contributivo (A)                           14 non-null     float64\n",
      " 4   Otros_Planes_de_Salud (A)                       14 non-null     float64\n",
      " 5   PIB/Precios Corrientes (B)                      14 non-null     float64\n",
      " 6   Total en Relación al PIB (A/B)                  14 non-null     float64\n",
      " 7   PDSS_Subsidiado en Relación al PIB (A/B)        14 non-null     float64\n",
      " 8   PDSS_Contributivo en Relación al PIB (A/B)      14 non-null     float64\n",
      " 9   Otros_Planes_de_Salud en Relación al PIB (A/B)  14 non-null     float64\n",
      " 10  Total Dispersado SFS                            14 non-null     float64\n",
      " 11  Régimen Contributivo                            14 non-null     float64\n",
      " 12  Régimen Subsidiado                              14 non-null     float64\n",
      "dtypes: float64(12), int64(1)\n",
      "memory usage: 1.5 KB\n",
      "None\n"
     ]
    }
   ],
   "source": [
    "\n",
    "\n",
    "#merge_and_save_dataframes(df1, df2, output_file, on_columns, suffixes):\n",
    "df1 = df_RC_GastoSalud_PIB\n",
    "df2 = df_RC_MontoARS_PBS_Regimen\n",
    "datafile = 'data/SISALRIL/financiamiento/FinanciamientoARS_SaludPIB_Regimen.csv'\n",
    "on_columns = ['Ano de Cobertura']\n",
    "suffixes=('_capitas', '_monto')\n",
    "merge_and_save_dataframes([df1,df2],datafile,on_columns,suffixes)\n"
   ]
  },
  {
   "cell_type": "code",
   "execution_count": 31,
   "id": "99508a2c-7d6a-4615-a4bc-6979db0dc0a7",
   "metadata": {
    "tags": []
   },
   "outputs": [],
   "source": [
    "# Tablas seleccionadas adiliados\n",
    "output_file = 'data/SISALRIL/financiamiento/Afiliados_Edad_Sexo_Cotizacion.csv'## nombre del archivo CSV a ser guardado\n",
    "datafile= 'data/SISALRIL/afiliacion/RC_Tabla_Regiones.csv'\n",
    "output_file = 'data/SISALRIL/financiamiento/RC_Datos_Regionales_Cotizacion.csv'## nombre del archivo CSV a ser guardado\n",
    "#nombre_df_merge = \"\" ruta_archivo_csv = f\"data/SISALRIL/afiliacion/{nombre_df_merge}.csv\"\n",
    "file =\"data/SISALRIL/afiliacion/RC_Region_Salud_Total.csv\"\n",
    "#nombre_df_merge = \"RC_Region_Geografica_Total_Combinado\"ruta_archivo_csv = f\"data/SISALRIL/afiliacion/{nombre_df_merge}.csv\"\n",
    "file =\"data/SISALRIL/afiliacion/RC_Region_Geografica_Total_Combinado.csv\"\n",
    "output_file = 'data/SISALRIL/financiamiento/SFS_Regimen_Sexo_Porcentaje_Tasa.csv'\n",
    "\n",
    "# Tablas seleccionadas Financiamiento\n",
    "output_file = 'data/SISALRIL/financiamiento/Financiamiento_Dispersado_TipoARS_postMes.csv'\n",
    "output_file = 'data/SISALRIL/financiamiento/Financiamiento_Dispersado_Salario.csv'\n",
    "datafile = 'data/SISALRIL/financiamiento/FinanciamientoARS_SaludPIB_Regimen.csv'\n",
    "\n"
   ]
  },
  {
   "cell_type": "markdown",
   "id": "b294d042-591a-4547-b1b0-ee2027454700",
   "metadata": {
    "jp-MarkdownHeadingCollapsed": true,
    "tags": []
   },
   "source": [
    "## Prestaciones"
   ]
  },
  {
   "cell_type": "code",
   "execution_count": 32,
   "id": "18d0b41c-a793-49b3-aa15-14cf8549b520",
   "metadata": {
    "tags": []
   },
   "outputs": [],
   "source": [
    "extraer_prestaciones()"
   ]
  },
  {
   "cell_type": "code",
   "execution_count": 33,
   "id": "3675778f-e9e0-483d-818f-601013ebf9e4",
   "metadata": {},
   "outputs": [],
   "source": [
    "names_ =  [\n",
    "        'Ano de Cobertura',\n",
    "        'Grupo Numero',\n",
    "        'Grupo Descripcion ',\n",
    "        'Servicios Prestados',\n",
    "        'Distribucion Porcentual ',\n",
    "    ]\n",
    "data_path = \"data/SISALRIL/prestaciones/Prestaciones_RC_PBS_02.xlsx\"\n",
    "datafile = 'data/SISALRIL/prestaciones/PrestacionesPBS_Servicios.csv'\n",
    "#  Extraer_PrestacionesPBS(data_path, header_=7, rows_=231-7, skip=7, columns_=\"A:E\", column_names=names_, archivocsv=datafile)\n",
    "df_PrestacionesPBS_Servicios = pd.read_csv(datafile)\n",
    "#print(df_PrestacionesPBS_Servicios.head())\n",
    "\n",
    "data_path = \"data/SISALRIL/prestaciones/Prestaciones_RC_PBS_01.xlsx\"\n",
    "datafile = 'data/SISALRIL/prestaciones/PrestacionesPBS_Monto.csv'\n",
    "## Extraer_PrestacionesPBS(data_path, header_=6, rows_=230-6, skip=6, columns_=\"A:E\",  archivocsv=datafile)\n",
    "df_PrestacionesPBS_Monto = pd.read_csv(datafile)\n",
    "#print(df_PrestacionesPBS_Monto.head())"
   ]
  },
  {
   "cell_type": "code",
   "execution_count": 34,
   "id": "20a36327-0d80-488f-9e50-60602df5acbd",
   "metadata": {},
   "outputs": [
    {
     "name": "stdout",
     "output_type": "stream",
     "text": [
      "<class 'pandas.core.frame.DataFrame'>\n",
      "Int64Index: 207 entries, 0 to 206\n",
      "Data columns (total 7 columns):\n",
      " #   Column                            Non-Null Count  Dtype  \n",
      "---  ------                            --------------  -----  \n",
      " 0   Ano de Cobertura                  207 non-null    int64  \n",
      " 1   Grupo Numero                      207 non-null    float64\n",
      " 2   Grupo Descripcion                 207 non-null    object \n",
      " 3   Servicios Prestados               207 non-null    int64  \n",
      " 4   Distribucion Porcentual _capitas  207 non-null    float64\n",
      " 5   Montos Pagados                    207 non-null    float64\n",
      " 6   Distribucion Porcentual _monto    207 non-null    float64\n",
      "dtypes: float64(4), int64(2), object(1)\n",
      "memory usage: 12.9+ KB\n",
      "None\n"
     ]
    }
   ],
   "source": [
    "\n",
    "#merge_and_save_dataframes(df1, df2, output_file, on_columns, suffixes):\n",
    "df1 = df_PrestacionesPBS_Servicios\n",
    "df2 = df_PrestacionesPBS_Monto\n",
    "\n",
    "datafile = 'data/SISALRIL/financiamiento/PrestacionesPBS.csv'\n",
    "on_columns = ['Ano de Cobertura', 'Grupo Numero','Grupo Descripcion ']\n",
    "suffixes=('_capitas', '_monto')\n",
    "merge_and_save_dataframes([df1,df2],datafile,on_columns,suffixes)\n"
   ]
  },
  {
   "cell_type": "code",
   "execution_count": 35,
   "id": "ecc4bf09-3625-47ba-a010-703207b54a55",
   "metadata": {},
   "outputs": [],
   "source": [
    "# Tablas seleccionadas adiliados\n",
    "output_file = 'data/SISALRIL/financiamiento/Afiliados_Edad_Sexo_Cotizacion.csv'## nombre del archivo CSV a ser guardado\n",
    "datafile= 'data/SISALRIL/afiliacion/RC_Tabla_Regiones.csv'\n",
    "output_file = 'data/SISALRIL/financiamiento/RC_Datos_Regionales_Cotizacion.csv'## nombre del archivo CSV a ser guardado\n",
    "#nombre_df_merge = \"\" ruta_archivo_csv = f\"data/SISALRIL/afiliacion/{nombre_df_merge}.csv\"\n",
    "file =\"data/SISALRIL/afiliacion/RC_Region_Salud_Total.csv\"\n",
    "#nombre_df_merge = \"RC_Region_Geografica_Total_Combinado\"ruta_archivo_csv = f\"data/SISALRIL/afiliacion/{nombre_df_merge}.csv\"\n",
    "file =\"data/SISALRIL/afiliacion/RC_Region_Geografica_Total_Combinado.csv\"\n",
    "output_file = 'data/SISALRIL/financiamiento/SFS_Regimen_Sexo_Porcentaje_Tasa.csv'\n",
    "\n",
    "# Tablas seleccionadas Financiamiento\n",
    "output_file = 'data/SISALRIL/financiamiento/Financiamiento_Dispersado_TipoARS_postMes.csv'\n",
    "output_file = 'data/SISALRIL/financiamiento/Financiamiento_Dispersado_Salario.csv'\n",
    "datafile = 'data/SISALRIL/financiamiento/FinanciamientoARS_SaludPIB_Regimen.csv'\n",
    "\n",
    "#Tablas seleccionadas prestaciones\n",
    "datafile = 'data/SISALRIL/financiamiento/PrestacionesPBS.csv'\n"
   ]
  },
  {
   "cell_type": "markdown",
   "id": "00d17c1e-2b66-4c41-b81c-c67c009f2860",
   "metadata": {
    "jp-MarkdownHeadingCollapsed": true,
    "tags": []
   },
   "source": [
    "## Siniestralidad"
   ]
  },
  {
   "cell_type": "code",
   "execution_count": 36,
   "id": "1811fc08-7161-4d7d-ae6a-8e2a0ea8cdf5",
   "metadata": {},
   "outputs": [],
   "source": [
    "extraer_siniestralidad()"
   ]
  },
  {
   "cell_type": "code",
   "execution_count": 37,
   "id": "59051d8e-8864-4b12-85be-a094fc00d418",
   "metadata": {},
   "outputs": [],
   "source": [
    "data_path = \"data/SISALRIL/siniestralidad/Siniestralidad_RC_PBS_01.xlsx\"\n",
    "datafile = 'data/SISALRIL/siniestralidad/RC_Ingresos_Gastos_Siniestralidad.csv'\n",
    "\n",
    "#  Extraer_PrestacionesPBS(data_path, header_=7, rows_=231-7, skip=7, columns_=\"A:E\", column_names=names_, archivocsv=datafile)\n",
    "df_RC_Ingresos_Gastos_Siniestralidad = pd.read_csv(datafile)\n",
    "#print(df_RC_Ingresos_Gastos_Siniestralidad.info())\n",
    "\n",
    "data_path = \"data/SISALRIL/siniestralidad/Sinestralidad_OP_01.xlsx\"\n",
    "datafile = 'data/SISALRIL/siniestralidad/OP_Ingresos_Gastos_Siniestralidad.csv'\n",
    "#  Extraer_PrestacionesPBS(data_path, header_=7, rows_=231-7, skip=7, columns_=\"A:E\", column_names=names_, archivocsv=datafile)\n",
    "df_OP_Ingresos_Gastos_Siniestralidad = pd.read_csv(datafile)\n",
    "#print(df_OP_Ingresos_Gastos_Siniestralidad.info())\n",
    "\n",
    "data_path = \"data/SISALRIL/siniestralidad/Siniestralidad_RC_PBS_02.xlsx\"\n",
    "datafile = 'data/SISALRIL/siniestralidad/RC_Ingresos_Gastos_Siniestralidad_Anual.csv'\n",
    "\n",
    "#  Extraer_PrestacionesPBS(data_path, header_=7, rows_=231-7, skip=7, columns_=\"A:E\", column_names=names_, archivocsv=datafile)\n",
    "df_RC_Ingresos_Gastos_Siniestralidad_Anual = pd.read_csv(datafile)\n",
    "#print(df_RC_Ingresos_Gastos_Siniestralidad_Anual.info())\n",
    "\n",
    "data_path = \"data/SISALRIL/siniestralidad/Sinestralidad_OP_02.xlsx\"\n",
    "datafile = 'data/SISALRIL/siniestralidad/OP_Ingresos_Gastos_Siniestralidad_Anual.csv'\n",
    "\n",
    "#  Extraer_PrestacionesPBS(data_path, header_=7, rows_=231-7, skip=7, columns_=\"A:E\", column_names=names_, archivocsv=datafile)\n",
    "df_OP_Ingresos_Gastos_Siniestralidad_Anual = pd.read_csv(datafile)\n",
    "#print(df_OP_Ingresos_Gastos_Siniestralidad_Anual.info())\n"
   ]
  },
  {
   "cell_type": "code",
   "execution_count": 38,
   "id": "c4c9cb67-8e69-49f2-8f53-4521e3081774",
   "metadata": {},
   "outputs": [
    {
     "name": "stdout",
     "output_type": "stream",
     "text": [
      "<class 'pandas.core.frame.DataFrame'>\n",
      "Int64Index: 195 entries, 0 to 194\n",
      "Data columns (total 9 columns):\n",
      " #   Column                               Non-Null Count  Dtype  \n",
      "---  ------                               --------------  -----  \n",
      " 0   Periodo de Cobertura                 195 non-null    object \n",
      " 1   Ingresos en Salud_RC                 195 non-null    float64\n",
      " 2   Gasto en Salud_RC                    195 non-null    float64\n",
      " 3   Porcentaje (%) de Siniestralidad_RC  195 non-null    float64\n",
      " 4   Year                                 195 non-null    int64  \n",
      " 5   Month                                195 non-null    int64  \n",
      " 6   Ingresos en Salud_OP                 195 non-null    float64\n",
      " 7   Gasto en Salud_OP                    195 non-null    float64\n",
      " 8   Porcentaje (%) de Siniestralidad_OP  195 non-null    float64\n",
      "dtypes: float64(6), int64(2), object(1)\n",
      "memory usage: 15.2+ KB\n",
      "None\n",
      "<class 'pandas.core.frame.DataFrame'>\n",
      "Int64Index: 17 entries, 0 to 16\n",
      "Data columns (total 25 columns):\n",
      " #   Column                             Non-Null Count  Dtype  \n",
      "---  ------                             --------------  -----  \n",
      " 0   Ano de Cobertura                   17 non-null     int64  \n",
      " 1   Ingresos ARS Total_RC              17 non-null     float64\n",
      " 2   Ingresos ARS Autogestion_RC        17 non-null     float64\n",
      " 3   Ingresos ARS Privada_RC            17 non-null     float64\n",
      " 4   Ingresos ARS Publica_RC            17 non-null     float64\n",
      " 5   Gastos ARS Total_RC                17 non-null     float64\n",
      " 6   Gastos ARS Autogestion_RC          17 non-null     float64\n",
      " 7   Gastos ARS Privada_RC              17 non-null     float64\n",
      " 8   Gastos ARS Publica_RC              17 non-null     float64\n",
      " 9   Siniestralidad ARS Total_RC        17 non-null     float64\n",
      " 10  Siniestralidad ARS Autogestion_RC  17 non-null     float64\n",
      " 11  Siniestralidad ARS Privada_RC      17 non-null     float64\n",
      " 12  Siniestralidad ARS Publica_RC      17 non-null     float64\n",
      " 13  Ingresos ARS Total_OP              17 non-null     float64\n",
      " 14  Ingresos ARS Autogestion_OP        17 non-null     float64\n",
      " 15  Ingresos ARS Privada_OP            17 non-null     float64\n",
      " 16  Ingresos ARS Publica_OP            17 non-null     float64\n",
      " 17  Gastos ARS Total_OP                17 non-null     float64\n",
      " 18  Gastos ARS Autogestion_OP          17 non-null     float64\n",
      " 19  Gastos ARS Privada_OP              17 non-null     float64\n",
      " 20  Gastos ARS Publica_OP              17 non-null     float64\n",
      " 21  Siniestralidad ARS Total_OP        17 non-null     float64\n",
      " 22  Siniestralidad ARS Autogestion_OP  17 non-null     float64\n",
      " 23  Siniestralidad ARS Privada_OP      17 non-null     float64\n",
      " 24  Siniestralidad ARS Publica_OP      17 non-null     float64\n",
      "dtypes: float64(24), int64(1)\n",
      "memory usage: 3.5 KB\n",
      "None\n"
     ]
    }
   ],
   "source": [
    "#merge_and_save_dataframes(df1, df2, output_file, on_columns, suffixes):\n",
    "df1 = df_RC_Ingresos_Gastos_Siniestralidad\n",
    "df2 =df_OP_Ingresos_Gastos_Siniestralidad\n",
    "datafile = 'data/SISALRIL/siniestralidad/Ingresos_Gastos_Siniestralidad.csv' \n",
    "on_columns = [\"Periodo de Cobertura\", \"Year\", \"Month\"]\n",
    "suffixes=('_RC', '_OP')\n",
    "merge_and_save_dataframes([df1,df2],datafile,on_columns,suffixes)\n",
    "\n",
    "#merge_and_save_dataframes(df1, df2, output_file, on_columns, suffixes):\n",
    "df1 = df_RC_Ingresos_Gastos_Siniestralidad_Anual\n",
    "df2 =df_OP_Ingresos_Gastos_Siniestralidad_Anual\n",
    "datafile = 'data/SISALRIL/siniestralidad/Ingresos_Gastos_Siniestralidad_Anual.csv'\n",
    "on_columns = [\"Ano de Cobertura\"]\n",
    "suffixes=('_RC', '_OP')\n",
    "merge_and_save_dataframes([df1,df2],datafile,on_columns,suffixes)"
   ]
  },
  {
   "cell_type": "code",
   "execution_count": 39,
   "id": "6fb784e7-8210-474a-aaa7-e171ed9272c2",
   "metadata": {},
   "outputs": [],
   "source": [
    "# Tablas seleccionadas adiliados\n",
    "output_file = 'data/SISALRIL/financiamiento/Afiliados_Edad_Sexo_Cotizacion.csv'## nombre del archivo CSV a ser guardado\n",
    "datafile= 'data/SISALRIL/afiliacion/RC_Tabla_Regiones.csv'\n",
    "output_file = 'data/SISALRIL/financiamiento/RC_Datos_Regionales_Cotizacion.csv'## nombre del archivo CSV a ser guardado\n",
    "#--------------------nombre_df_merge = \"\" ruta_archivo_csv = f\"data/SISALRIL/afiliacion/{nombre_df_merge}.csv\"\n",
    "file =\"data/SISALRIL/afiliacion/RC_Region_Salud_Total.csv\"\n",
    "#-------------------nombre_df_merge = \"RC_Region_Geografica_Total_Combinado\"ruta_archivo_csv = f\"data/SISALRIL/afiliacion/{nombre_df_merge}.csv\"\n",
    "file =\"data/SISALRIL/afiliacion/RC_Region_Geografica_Total_Combinado.csv\"\n",
    "output_file = 'data/SISALRIL/financiamiento/SFS_Regimen_Sexo_Porcentaje_Tasa.csv'\n",
    "\n",
    "# Tablas seleccionadas Financiamiento\n",
    "output_file = 'data/SISALRIL/financiamiento/Financiamiento_Dispersado_TipoARS_postMes.csv'\n",
    "output_file = 'data/SISALRIL/financiamiento/Financiamiento_Dispersado_Salario.csv'\n",
    "datafile = 'data/SISALRIL/financiamiento/FinanciamientoARS_SaludPIB_Regimen.csv'\n",
    "\n",
    "#Tablas seleccionadas prestaciones\n",
    "datafile = 'data/SISALRIL/financiamiento/PrestacionesPBS.csv'\n",
    "\n",
    "#Tablas seleccionadas Siniestralidad\n",
    "datafile = 'data/SISALRIL/siniestralidad/Ingresos_Gastos_Siniestralidad.csv' \n",
    "datafile = 'data/SISALRIL/siniestralidad/Ingresos_Gastos_Siniestralidad_Anual.csv'\n"
   ]
  },
  {
   "cell_type": "markdown",
   "id": "f136b370-66b5-4e73-90b6-e087a714ec74",
   "metadata": {
    "jp-MarkdownHeadingCollapsed": true,
    "tags": []
   },
   "source": [
    "## Base de Datos\n",
    "\n",
    "Aqui se guardan las tablas que se transformaron y unieron\n"
   ]
  },
  {
   "cell_type": "code",
   "execution_count": 40,
   "id": "d9468a1c-be95-423e-aa4a-e05aaa18cc3b",
   "metadata": {},
   "outputs": [],
   "source": [
    "# ubicacion de la base de datos\n",
    "path = 'data/Base_Creada'"
   ]
  },
  {
   "cell_type": "code",
   "execution_count": 41,
   "id": "a43c3d7e-4b9c-4bcc-8de5-4b8f0a11545c",
   "metadata": {
    "tags": []
   },
   "outputs": [],
   "source": [
    "import shutil\n",
    "\n",
    "# Lista de archivos a copiar\n",
    "archivos_a_copiar = [\n",
    "    'data/SISALRIL/financiamiento/Afiliados_Edad_Sexo_Cotizacion.csv',\n",
    "    'data/SISALRIL/afiliacion/RC_Tabla_Regiones.csv',\n",
    "    'data/SISALRIL/financiamiento/RC_Datos_Regionales_Cotizacion.csv',\n",
    "    'data/SISALRIL/afiliacion/RC_Region_Salud_Total.csv',\n",
    "    'data/SISALRIL/afiliacion/RC_Region_Geografica_Total_Combinado.csv',\n",
    "    'data/SISALRIL/financiamiento/SFS_Regimen_Sexo_Porcentaje_Tasa.csv',\n",
    "    'data/SISALRIL/financiamiento/Financiamiento_Dispersado_TipoARS_postMes.csv',\n",
    "    'data/SISALRIL/financiamiento/Financiamiento_Dispersado_Salario.csv',\n",
    "    'data/SISALRIL/financiamiento/FinanciamientoARS_SaludPIB_Regimen.csv',\n",
    "    'data/SISALRIL/financiamiento/PrestacionesPBS.csv',\n",
    "    'data/SISALRIL/siniestralidad/Ingresos_Gastos_Siniestralidad.csv',\n",
    "    'data/SISALRIL/siniestralidad/Ingresos_Gastos_Siniestralidad_Anual.csv'\n",
    "]\n",
    "\n",
    "# Carpeta de destino\n",
    "carpeta_destino = 'data/Base_Creada'\n",
    "\n",
    "# Copiar archivos a la carpeta de destino\n",
    "for archivo in archivos_a_copiar:\n",
    "    shutil.copy(archivo, carpeta_destino)"
   ]
  },
  {
   "cell_type": "markdown",
   "id": "5ce82d20-ef5e-4c70-bfb4-ec2e74c1beb3",
   "metadata": {
    "tags": []
   },
   "source": [
    "# Exploracion\n"
   ]
  },
  {
   "cell_type": "markdown",
   "id": "2db61621-bcdc-4247-b41d-4a952b4c6f28",
   "metadata": {
    "tags": []
   },
   "source": [
    "## Descripcion del Dataset\n"
   ]
  },
  {
   "cell_type": "code",
   "execution_count": 42,
   "id": "73ce0ab5-7ec8-4a31-aa47-fc10191338f4",
   "metadata": {
    "tags": []
   },
   "outputs": [],
   "source": [
    "\n",
    "\n",
    "# Lista de archivos a copiar\n",
    "Tablas = [\n",
    "    'data/Base_Creada/Afiliados_Edad_Sexo_Cotizacion.csv',\n",
    "    'data/Base_Creada/RC_Tabla_Regiones.csv',\n",
    "    'data/Base_Creada/RC_Datos_Regionales_Cotizacion.csv',\n",
    "    'data/Base_Creada/RC_Region_Salud_Total.csv',\n",
    "    'data/Base_Creada/RC_Region_Geografica_Total_Combinado.csv',\n",
    "    'data/Base_Creada/SFS_Regimen_Sexo_Porcentaje_Tasa.csv',\n",
    "    'data/Base_Creada/Financiamiento_Dispersado_TipoARS_postMes.csv',\n",
    "    'data/Base_Creada/Financiamiento_Dispersado_Salario.csv',\n",
    "    'data/Base_Creada/FinanciamientoARS_SaludPIB_Regimen.csv',\n",
    "    'data/Base_Creada/PrestacionesPBS.csv',\n",
    "    'data/Base_Creada/Ingresos_Gastos_Siniestralidad.csv',\n",
    "    'data/Base_Creada/Ingresos_Gastos_Siniestralidad_Anual.csv'\n",
    "]\n",
    "\n"
   ]
  },
  {
   "cell_type": "code",
   "execution_count": 55,
   "id": "5f2bd816-3b75-485d-8d75-0c9e3af153ad",
   "metadata": {
    "tags": []
   },
   "outputs": [
    {
     "name": "stderr",
     "output_type": "stream",
     "text": [
      "Traceback (most recent call last):\n",
      "  File \"C:\\Users\\zonbr\\.conda\\envs\\Analisis_SFS_ARS\\Scripts\\streamlit-script.py\", line 6, in <module>\n",
      "    from streamlit.cli import main\n",
      "ModuleNotFoundError: No module named 'streamlit.cli'\n"
     ]
    }
   ],
   "source": [
    "!streamlit run Streamtest.py"
   ]
  },
  {
   "cell_type": "code",
   "execution_count": 46,
   "id": "edc363f1-aab5-48b8-aa1e-e4cff30a5510",
   "metadata": {
    "tags": []
   },
   "outputs": [],
   "source": [
    "import pandas as pd\n",
    "import plotly.express as px\n",
    "import streamlit as st\n",
    "from pathlib import Path\n"
   ]
  },
  {
   "cell_type": "code",
   "execution_count": 47,
   "id": "e1705972-4587-428d-b0d9-9f5fa9c4f24a",
   "metadata": {
    "tags": []
   },
   "outputs": [],
   "source": [
    "# Cargar las tablas\n",
    "tablas = [Path(tabla) for tabla in Tablas]\n",
    "dataframes = {tabla.name: pd.read_csv(tabla) for tabla in tablas}"
   ]
  },
  {
   "cell_type": "code",
   "execution_count": 48,
   "id": "1bac4f16-a2e7-4301-80e2-71ecf64e23cd",
   "metadata": {
    "tags": []
   },
   "outputs": [
    {
     "name": "stdout",
     "output_type": "stream",
     "text": [
      "<class 'pandas.core.frame.DataFrame'>\n",
      "RangeIndex: 780 entries, 0 to 779\n",
      "Data columns (total 26 columns):\n",
      " #   Column                Non-Null Count  Dtype  \n",
      "---  ------                --------------  -----  \n",
      " 0   Periodo de Cobertura  780 non-null    object \n",
      " 1   Total Cotizantes      390 non-null    float64\n",
      " 2   15-19                 780 non-null    int64  \n",
      " 3   20-24                 780 non-null    int64  \n",
      " 4   25-29                 780 non-null    int64  \n",
      " 5   30-34                 780 non-null    int64  \n",
      " 6   35-39                 780 non-null    int64  \n",
      " 7   40-44                 780 non-null    int64  \n",
      " 8   45-49                 780 non-null    int64  \n",
      " 9   50-54                 780 non-null    int64  \n",
      " 10  55-59                 780 non-null    int64  \n",
      " 11  60-64                 780 non-null    int64  \n",
      " 12  65-69                 780 non-null    int64  \n",
      " 13  70-74                 780 non-null    int64  \n",
      " 14  75-79                 780 non-null    int64  \n",
      " 15  80-84                 780 non-null    int64  \n",
      " 16  85 y mas              780 non-null    int64  \n",
      " 17  No Especificada       390 non-null    float64\n",
      " 18  Year                  780 non-null    int64  \n",
      " 19  Month                 780 non-null    int64  \n",
      " 20  Sexo                  780 non-null    object \n",
      " 21  Cotizante             780 non-null    object \n",
      " 22  Total Afiliados       390 non-null    float64\n",
      " 23  0-4                   390 non-null    float64\n",
      " 24  5-9                   390 non-null    float64\n",
      " 25  10-14                 390 non-null    float64\n",
      "dtypes: float64(6), int64(17), object(3)\n",
      "memory usage: 158.6+ KB\n"
     ]
    }
   ],
   "source": [
    "# Seleccionar una tabla\n",
    "tabla_seleccionada = st.selectbox(\"Selecciona una tabla\", list(dataframes.keys()))\n",
    "\n",
    "# Mostrar información de la tabla seleccionada\n",
    "df = dataframes[tabla_seleccionada]\n",
    "st.write(df.info())"
   ]
  },
  {
   "cell_type": "code",
   "execution_count": null,
   "id": "2907b6c1-e1ab-4a6b-8c2d-9dc5de5043ee",
   "metadata": {
    "tags": []
   },
   "outputs": [],
   "source": []
  },
  {
   "cell_type": "code",
   "execution_count": null,
   "id": "d738515c-2734-4406-af81-2e77513e9cdc",
   "metadata": {
    "tags": []
   },
   "outputs": [],
   "source": []
  },
  {
   "cell_type": "code",
   "execution_count": null,
   "id": "f4206aaa-031b-428f-a035-7a36c56073c1",
   "metadata": {
    "tags": []
   },
   "outputs": [],
   "source": []
  },
  {
   "cell_type": "code",
   "execution_count": null,
   "id": "4d3b1ddb-10fa-48e7-ad19-774101f90f93",
   "metadata": {
    "tags": []
   },
   "outputs": [],
   "source": []
  },
  {
   "cell_type": "code",
   "execution_count": null,
   "id": "23cbbbea-6730-4831-b74f-651bb9c40cbf",
   "metadata": {},
   "outputs": [],
   "source": []
  }
 ],
 "metadata": {
  "kernelspec": {
   "display_name": "Python 3 (ipykernel)",
   "language": "python",
   "name": "python3"
  },
  "language_info": {
   "codemirror_mode": {
    "name": "ipython",
    "version": 3
   },
   "file_extension": ".py",
   "mimetype": "text/x-python",
   "name": "python",
   "nbconvert_exporter": "python",
   "pygments_lexer": "ipython3",
   "version": "3.11.5"
  }
 },
 "nbformat": 4,
 "nbformat_minor": 5
}
