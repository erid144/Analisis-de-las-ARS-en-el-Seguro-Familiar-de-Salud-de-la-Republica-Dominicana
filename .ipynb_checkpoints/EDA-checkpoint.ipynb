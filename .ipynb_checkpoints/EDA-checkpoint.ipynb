{
 "cells": [
  {
   "cell_type": "code",
   "execution_count": 1,
   "id": "4f4d3143-8a86-411d-84e7-4cb928207ef9",
   "metadata": {
    "tags": []
   },
   "outputs": [
    {
     "name": "stdout",
     "output_type": "stream",
     "text": [
      "The following libraries are not installed and will be installed:\n",
      "scikit-learn\n"
     ]
    }
   ],
   "source": [
    "import sys\n",
    "sys.path.append('src')\n",
    "sys.path.append('models')\n",
    "sys.path.append('data')\n",
    "from librerias import *\n",
    "from utils import *\n",
    "%load_ext autoreload\n",
    "%autoreload 2\n",
    "#generate_requirements_txt(\"requirements.txt\")\n",
    "#install_requirements()\n"
   ]
  },
  {
   "cell_type": "code",
   "execution_count": 2,
   "id": "06b7c228-4e6e-4713-8474-81ec80835b45",
   "metadata": {
    "tags": []
   },
   "outputs": [],
   "source": [
    "%reload_ext autoreload"
   ]
  },
  {
   "cell_type": "markdown",
   "id": "4f5bc874-4329-4c6f-971b-31c8e94cdf89",
   "metadata": {
    "tags": []
   },
   "source": [
    "# Tablas transformadas"
   ]
  },
  {
   "cell_type": "markdown",
   "id": "5ce71737-f163-48a6-8133-13191c73dd47",
   "metadata": {
    "tags": []
   },
   "source": [
    "## Afiliados"
   ]
  },
  {
   "cell_type": "code",
   "execution_count": 3,
   "id": "3a84cf3c-0880-4866-bb4b-425bde7c31d4",
   "metadata": {},
   "outputs": [],
   "source": [
    "extraer_afiliados()"
   ]
  },
  {
   "cell_type": "code",
   "execution_count": 4,
   "id": "4f20626d-1b09-4e3d-b8bf-7851db43ca9c",
   "metadata": {
    "tags": []
   },
   "outputs": [
    {
     "name": "stdout",
     "output_type": "stream",
     "text": [
      "<class 'pandas.core.frame.DataFrame'>\n",
      "RangeIndex: 390 entries, 0 to 389\n",
      "Data columns (total 23 columns):\n",
      " #   Column                Non-Null Count  Dtype \n",
      "---  ------                --------------  ----- \n",
      " 0   Periodo de Cobertura  390 non-null    object\n",
      " 1   Total Afiliados       390 non-null    int64 \n",
      " 2   0-4                   390 non-null    int64 \n",
      " 3   5-9                   390 non-null    int64 \n",
      " 4   10-14                 390 non-null    int64 \n",
      " 5   15-19                 390 non-null    int64 \n",
      " 6   20-24                 390 non-null    int64 \n",
      " 7   25-29                 390 non-null    int64 \n",
      " 8   30-34                 390 non-null    int64 \n",
      " 9   35-39                 390 non-null    int64 \n",
      " 10  40-44                 390 non-null    int64 \n",
      " 11  45-49                 390 non-null    int64 \n",
      " 12  50-54                 390 non-null    int64 \n",
      " 13  55-59                 390 non-null    int64 \n",
      " 14  60-64                 390 non-null    int64 \n",
      " 15  65-69                 390 non-null    int64 \n",
      " 16  70-74                 390 non-null    int64 \n",
      " 17  75-79                 390 non-null    int64 \n",
      " 18  80-84                 390 non-null    int64 \n",
      " 19  85 y Más              390 non-null    int64 \n",
      " 20  Year                  390 non-null    int64 \n",
      " 21  Month                 390 non-null    int64 \n",
      " 22  Sexo                  390 non-null    object\n",
      "dtypes: int64(21), object(2)\n",
      "memory usage: 70.2+ KB\n"
     ]
    }
   ],
   "source": [
    "#data_path=\"data/SISALRIL/afiliacion/Afiliacion_RC_PBS_02.xlsx\"\n",
    "datafile ='data/SISALRIL/afiliacion/RC_Afiliados_Edad_Sexo.csv'\n",
    "#Extraer_Afiliados_Edad_Sexo(data_path,  archivocsv=datafile)\n",
    "df_RC_Afiliados_Edad_Sexo = pd.read_csv(datafile)\n",
    "df_RC_Afiliados_Edad_Sexo.info()"
   ]
  },
  {
   "cell_type": "code",
   "execution_count": 5,
   "id": "19d9a222-a945-45b7-b947-110ed80124bf",
   "metadata": {
    "tags": []
   },
   "outputs": [
    {
     "name": "stdout",
     "output_type": "stream",
     "text": [
      "<class 'pandas.core.frame.DataFrame'>\n",
      "RangeIndex: 196 entries, 0 to 195\n",
      "Data columns (total 11 columns):\n",
      " #   Column                         Non-Null Count  Dtype  \n",
      "---  ------                         --------------  -----  \n",
      " 0   Periodo de Cobertura           196 non-null    object \n",
      " 1   Total_RC_Tasa_Dependencia      196 non-null    float64\n",
      " 2   Total_RC_Tasa_Dep_Directa      196 non-null    float64\n",
      " 3   ARS_AutoGest_Tasa_Dep_Directa  196 non-null    float64\n",
      " 4   ARS_AutoGest_Tasa_Dependencia  196 non-null    float64\n",
      " 5   ARS_Priv_Tasa_Dep_Directa      196 non-null    float64\n",
      " 6   ARS_Priv_Tasa_Dependencia      196 non-null    float64\n",
      " 7   ARS_Pub_Tasa_Dep_Directa       196 non-null    float64\n",
      " 8   ARS_Pub_Tasa_Dependencia       196 non-null    float64\n",
      " 9   Year                           196 non-null    int64  \n",
      " 10  Month                          196 non-null    int64  \n",
      "dtypes: float64(8), int64(2), object(1)\n",
      "memory usage: 17.0+ KB\n"
     ]
    }
   ],
   "source": [
    "#data_path = \"data/SISALRIL/afiliacion/Afiliacion_RC_PBS_03.xlsx\"\n",
    "datafile = 'data/SISALRIL/afiliacion/RC_TasaDependencia_RC_ARS.csv'\n",
    "#Extraer_TasaDependencia_RC_ARS(data_path,  archivocsv=datafile)\n",
    "df_RC_TasaDependencia_RC_ARS = pd.read_csv(datafile)\n",
    "df_RC_TasaDependencia_RC_ARS.info()"
   ]
  },
  {
   "cell_type": "code",
   "execution_count": 105,
   "id": "23fbcca9-6ca2-4be7-a5a5-a69a2213c359",
   "metadata": {
    "tags": []
   },
   "outputs": [],
   "source": [
    "#data_path = \"data/SISALRIL/afiliacion/Afiliacion_RC_PBS_07.xlsx\"\n",
    "datafile= 'data/SISALRIL/afiliacion/RC_AfiliadosCotizantes_Edad_Sexo.csv'\n",
    "#Extraer_AfiliadosCotizantes_Edad_Sexo(data_path,  archivocsv=datafile)\n",
    "df_RC_AfiliadosCotizantes_Edad_Sexo = pd.read_csv(datafile)\n",
    "df_RC_AfiliadosCotizantes_Edad_Sexo['Cotizante'] = 'SI'\n",
    "#df_RC_AfiliadosCotizantes_Edad_Sexo.info()\n",
    "\n",
    "# data_path = \"data/SISALRIL/afiliacion/Afiliacion_RC_PBS_08.xlsx\"\n",
    "datafile= 'data/SISALRIL/afiliacion/RC_AfiliadosNoCotizantes_Edad_Sexo.csv'\n",
    "# Extraer_AfiliadosNoCotizantes_Edad_Sexo(data_path,  archivocsv=datafile)\n",
    "df_RC_AfiliadosNoCotizantes_Edad_Sexo = pd.read_csv(datafile)\n",
    "df_RC_AfiliadosNoCotizantes_Edad_Sexo['Cotizante'] = 'NO'\n",
    "#df_RC_AfiliadosNoCotizantes_Edad_Sexo.info()"
   ]
  },
  {
   "cell_type": "code",
   "execution_count": 107,
   "id": "7f164df1-34b2-4d3c-88ae-386f6a866026",
   "metadata": {
    "tags": []
   },
   "outputs": [
    {
     "name": "stdout",
     "output_type": "stream",
     "text": [
      "<class 'pandas.core.frame.DataFrame'>\n",
      "RangeIndex: 780 entries, 0 to 779\n",
      "Data columns (total 26 columns):\n",
      " #   Column                Non-Null Count  Dtype  \n",
      "---  ------                --------------  -----  \n",
      " 0   Periodo de Cobertura  780 non-null    object \n",
      " 1   Total Cotizantes      390 non-null    float64\n",
      " 2   15-19                 780 non-null    int64  \n",
      " 3   20-24                 780 non-null    int64  \n",
      " 4   25-29                 780 non-null    int64  \n",
      " 5   30-34                 780 non-null    int64  \n",
      " 6   35-39                 780 non-null    int64  \n",
      " 7   40-44                 780 non-null    int64  \n",
      " 8   45-49                 780 non-null    int64  \n",
      " 9   50-54                 780 non-null    int64  \n",
      " 10  55-59                 780 non-null    int64  \n",
      " 11  60-64                 780 non-null    int64  \n",
      " 12  65-69                 780 non-null    int64  \n",
      " 13  70-74                 780 non-null    int64  \n",
      " 14  75-79                 780 non-null    int64  \n",
      " 15  80-84                 780 non-null    int64  \n",
      " 16  85 y mas              780 non-null    int64  \n",
      " 17  No Especificada       390 non-null    float64\n",
      " 18  Year                  780 non-null    int64  \n",
      " 19  Month                 780 non-null    int64  \n",
      " 20  Sexo                  780 non-null    object \n",
      " 21  Cotizante             780 non-null    object \n",
      " 22  Total Afiliados       390 non-null    float64\n",
      " 23  0-4                   390 non-null    float64\n",
      " 24  5-9                   390 non-null    float64\n",
      " 25  10-14                 390 non-null    float64\n",
      "dtypes: float64(6), int64(17), object(3)\n",
      "memory usage: 158.6+ KB\n",
      "None\n"
     ]
    }
   ],
   "source": [
    "\n",
    "# Cargar los DataFrames\n",
    "df1 = df_RC_AfiliadosCotizantes_Edad_Sexo\n",
    "df2 = df_RC_AfiliadosNoCotizantes_Edad_Sexo\n",
    "\n",
    "\n",
    "# Definir el nombre del archivo de salida\n",
    "output_file = 'data/SISALRIL/financiamiento/Afiliados_Edad_Sexo_Cotizacion.csv'## nombre del archivo CSV a ser guardado\n",
    "df_concatenated = pd.concat([df1, df2],ignore_index=True)\n",
    "print(df_concatenated.info())\n",
    "df_concatenated.to_csv(output_file, index=False)"
   ]
  },
  {
   "cell_type": "code",
   "execution_count": 8,
   "id": "2bd2b9c8-39dd-4520-bc02-e21cf9ee9b73",
   "metadata": {
    "tags": []
   },
   "outputs": [
    {
     "data": {
      "text/plain": [
       "array(['Región Distrito Nacional', 'Región Este', 'Región Norte',\n",
       "       'Región Sur'], dtype=object)"
      ]
     },
     "execution_count": 8,
     "metadata": {},
     "output_type": "execute_result"
    }
   ],
   "source": [
    "# data_path = \"data/SISALRIL/afiliacion/Afiliacion_RC_PBS_04.xlsx\"\n",
    "datafile= 'data/SISALRIL/afiliacion/RC_Tabla_Regiones.csv'\n",
    "# Extraer_Tabla_Regiones(data_path,  archivocsv=datafile)\n",
    "df_RC_Tabla_Regiones = pd.read_csv(datafile)\n",
    "df_RC_Tabla_Regiones['Región Geográfica/2'].unique()\n"
   ]
  },
  {
   "cell_type": "code",
   "execution_count": 9,
   "id": "786abb63-f66f-4006-b96a-7d0b9ff0720f",
   "metadata": {
    "tags": []
   },
   "outputs": [
    {
     "name": "stdout",
     "output_type": "stream",
     "text": [
      "<class 'pandas.core.frame.DataFrame'>\n",
      "RangeIndex: 196 entries, 0 to 195\n",
      "Data columns (total 50 columns):\n",
      " #   Column                          Non-Null Count  Dtype \n",
      "---  ------                          --------------  ----- \n",
      " 0   Total general                   196 non-null    int64 \n",
      " 1   Total Región Distrito Nacional  196 non-null    int64 \n",
      " 2   Total 0 - Santo Domingo         196 non-null    int64 \n",
      " 3   Distrito Nacional               196 non-null    int64 \n",
      " 4   Monte Plata                     196 non-null    int64 \n",
      " 5   Santo Domingo                   196 non-null    int64 \n",
      " 6   Total Región Este               196 non-null    int64 \n",
      " 7   Total V - Este                  196 non-null    int64 \n",
      " 8   El Seybo                        196 non-null    int64 \n",
      " 9   Hato Mayor del Rey              196 non-null    int64 \n",
      " 10  La Altagracia                   196 non-null    int64 \n",
      " 11  La Romana                       196 non-null    int64 \n",
      " 12  San Pedro de Macorís            196 non-null    int64 \n",
      " 13  Total Región Norte              196 non-null    int64 \n",
      " 14  Total II - Norcentral           196 non-null    int64 \n",
      " 15  Espaillat                       196 non-null    int64 \n",
      " 16  Puerto Plata                    196 non-null    int64 \n",
      " 17  Santiago                        196 non-null    int64 \n",
      " 18  Total III - Nordeste            196 non-null    int64 \n",
      " 19  Duarte                          196 non-null    int64 \n",
      " 20  Hermanas Mirabal                196 non-null    int64 \n",
      " 21  Maria Trinidad Sanchez          196 non-null    int64 \n",
      " 22  Samaná                          196 non-null    int64 \n",
      " 23  Total VII - Cibao Occidental    196 non-null    int64 \n",
      " 24  Dajabon                         196 non-null    int64 \n",
      " 25  Montecristi                     196 non-null    int64 \n",
      " 26  Santiago Rodriguez              196 non-null    int64 \n",
      " 27  Valverde                        196 non-null    int64 \n",
      " 28  Total VIII - Cibao Central      196 non-null    int64 \n",
      " 29  La vega                         196 non-null    int64 \n",
      " 30  Monseñor Nouel                  196 non-null    int64 \n",
      " 31  Sanchez Ramirez                 196 non-null    int64 \n",
      " 32  Total Región Sur                196 non-null    int64 \n",
      " 33  Total I - Valdesia              196 non-null    int64 \n",
      " 34  Peravia                         196 non-null    int64 \n",
      " 35  San Cristóbal                   196 non-null    int64 \n",
      " 36  San José de Ocoa                196 non-null    int64 \n",
      " 37  Total IV - Enriquillo           196 non-null    int64 \n",
      " 38  Bahoruco                        196 non-null    int64 \n",
      " 39  Barahona                        196 non-null    int64 \n",
      " 40  Independencia                   196 non-null    int64 \n",
      " 41  Pedernales                      196 non-null    int64 \n",
      " 42  Total VI - El Valle             196 non-null    int64 \n",
      " 43  Azua                            196 non-null    int64 \n",
      " 44  Elias Piña                      196 non-null    int64 \n",
      " 45  San Juan de la Maguana          196 non-null    int64 \n",
      " 46  No Especificada                 196 non-null    int64 \n",
      " 47  Month                           196 non-null    int64 \n",
      " 48  Year                            196 non-null    int64 \n",
      " 49  Periodo de Cobertura            196 non-null    object\n",
      "dtypes: int64(49), object(1)\n",
      "memory usage: 76.7+ KB\n"
     ]
    }
   ],
   "source": [
    "# data_path = \"data/SISALRIL/afiliacion/Afiliacion_RC_PBS_04.xlsx\"\n",
    "datafile ='data/SISALRIL/afiliacion/RC_Datos_Regionales.csv'\n",
    "# Extraer_datos_regionales(data_path, header_=7, rows_=54-7, archivocsv=datafile)\n",
    "df_RC_Datos_Regionales = pd.read_csv(datafile)\n",
    "df_RC_Datos_Regionales.info()"
   ]
  },
  {
   "cell_type": "code",
   "execution_count": 10,
   "id": "0fa55978-6448-47d6-ad90-d021809d09b4",
   "metadata": {
    "tags": []
   },
   "outputs": [
    {
     "name": "stdout",
     "output_type": "stream",
     "text": [
      "<class 'pandas.core.frame.DataFrame'>\n",
      "RangeIndex: 196 entries, 0 to 195\n",
      "Data columns (total 50 columns):\n",
      " #   Column                          Non-Null Count  Dtype \n",
      "---  ------                          --------------  ----- \n",
      " 0   Total general                   196 non-null    int64 \n",
      " 1   Total Región Distrito Nacional  196 non-null    int64 \n",
      " 2   Total 0 - Santo Domingo         196 non-null    int64 \n",
      " 3   Distrito Nacional               196 non-null    int64 \n",
      " 4   Monte Plata                     196 non-null    int64 \n",
      " 5   Santo Domingo                   196 non-null    int64 \n",
      " 6   Total Región Este               196 non-null    int64 \n",
      " 7   Total V - Este                  196 non-null    int64 \n",
      " 8   El Seybo                        196 non-null    int64 \n",
      " 9   Hato Mayor del Rey              196 non-null    int64 \n",
      " 10  La Altagracia                   196 non-null    int64 \n",
      " 11  La Romana                       196 non-null    int64 \n",
      " 12  San Pedro de Macorís            196 non-null    int64 \n",
      " 13  Total Región Norte              196 non-null    int64 \n",
      " 14  Total II - Norcentral           196 non-null    int64 \n",
      " 15  Espaillat                       196 non-null    int64 \n",
      " 16  Puerto Plata                    196 non-null    int64 \n",
      " 17  Santiago                        196 non-null    int64 \n",
      " 18  Total III - Nordeste            196 non-null    int64 \n",
      " 19  Duarte                          196 non-null    int64 \n",
      " 20  Hermanas Mirabal                196 non-null    int64 \n",
      " 21  Maria Trinidad Sanchez          196 non-null    int64 \n",
      " 22  Samana                          196 non-null    int64 \n",
      " 23  Total VII - Cibao Occidental    196 non-null    int64 \n",
      " 24  Dajabon                         196 non-null    int64 \n",
      " 25  Montecristi                     196 non-null    int64 \n",
      " 26  Santiago Rodriguez              196 non-null    int64 \n",
      " 27  Valverde                        196 non-null    int64 \n",
      " 28  Total VIII - Cibao Central      196 non-null    int64 \n",
      " 29  La vega                         196 non-null    int64 \n",
      " 30  Monseñor Nouel                  196 non-null    int64 \n",
      " 31  Sanchez Ramirez                 196 non-null    int64 \n",
      " 32  Total Región Sur                196 non-null    int64 \n",
      " 33  Total I - Valdesia              196 non-null    int64 \n",
      " 34  Peravia                         196 non-null    int64 \n",
      " 35  San Cristóbal                   196 non-null    int64 \n",
      " 36  San jose de Ocoa                196 non-null    int64 \n",
      " 37  Total IV - Enriquillo           196 non-null    int64 \n",
      " 38  Bahoruco                        196 non-null    int64 \n",
      " 39  Barahona                        196 non-null    int64 \n",
      " 40  Independencia                   196 non-null    int64 \n",
      " 41  Pedernales                      196 non-null    int64 \n",
      " 42  Total VI - El Valle             196 non-null    int64 \n",
      " 43  Azua                            196 non-null    int64 \n",
      " 44  Elias Piña                      196 non-null    int64 \n",
      " 45  San Juan de la Maguana          196 non-null    int64 \n",
      " 46  No Especificada                 196 non-null    int64 \n",
      " 47  Month                           196 non-null    int64 \n",
      " 48  Year                            196 non-null    int64 \n",
      " 49  Periodo de Cobertura            196 non-null    object\n",
      "dtypes: int64(49), object(1)\n",
      "memory usage: 76.7+ KB\n"
     ]
    }
   ],
   "source": [
    "# data_path = \"data/SISALRIL/afiliacion/Afiliacion_RC_PBS_05.xlsx\"\n",
    "datafile ='data/SISALRIL/afiliacion/RC_Datos_Regionales_Cotizantes.csv'\n",
    "# Extraer_datos_regionales(data_path, header_=7, rows_=54-7, archivocsv=datafile)\n",
    "df_RC_Datos_Regionales_Cotizantes = pd.read_csv(datafile)\n",
    "df_RC_Datos_Regionales_Cotizantes['Cotizante']='\n",
    "#df_RC_Datos_Regionales_Cotizantes.info()\n",
    "# data_path = \"data/SISALRIL/afiliacion/Afiliacion_RC_PBS_06.xlsx\"\n",
    "datafile ='data/SISALRIL/afiliacion/RC_Datos_Regionales_NoCotizantes.csv'\n",
    "# Extraer_datos_regionales(data_path, header_=6, rows_=54-7, archivocsv=datafile)\n",
    "df_RC_Datos_Regionales_NoCotizantes = pd.read_csv(datafile)\n",
    "#df_RC_Datos_Regionales_NoCotizantes.info()"
   ]
  },
  {
   "cell_type": "code",
   "execution_count": null,
   "id": "6299baf8-6970-4536-b2e2-f8332e265ca3",
   "metadata": {
    "tags": []
   },
   "outputs": [],
   "source": [
    "\n",
    "# Cargar los DataFrames\n",
    "df1 = df_RC_AfiliadosCotizantes_Edad_Sexo\n",
    "df2 = df_RC_AfiliadosNoCotizantes_Edad_Sexo\n",
    "\n",
    "\n",
    "# Definir el nombre del archivo de salida\n",
    "output_file = 'data/SISALRIL/financiamiento/Afiliados_Edad_Sexo_Cotizacion.csv'## nombre del archivo CSV a ser guardado\n",
    "df_concatenated = pd.concat([df1, df2],ignore_index=True)\n",
    "print(df_concatenated.info())\n",
    "df_concatenated.to_csv(output_file, index=False)"
   ]
  },
  {
   "cell_type": "code",
   "execution_count": 100,
   "id": "0414f293-d6df-4cfd-bf29-f285a2e6ae72",
   "metadata": {
    "tags": []
   },
   "outputs": [
    {
     "name": "stdout",
     "output_type": "stream",
     "text": [
      "<class 'pandas.core.frame.DataFrame'>\n",
      "RangeIndex: 196 entries, 0 to 195\n",
      "Data columns (total 7 columns):\n",
      " #   Column                       Non-Null Count  Dtype  \n",
      "---  ------                       --------------  -----  \n",
      " 0   Periodo de Cobertura         196 non-null    object \n",
      " 1   SFS                          196 non-null    float64\n",
      " 2   Tasa_Dep_Regimen_Subsidiado  196 non-null    float64\n",
      " 3   RC_Tasa_Dependencia          196 non-null    float64\n",
      " 4   RC_Tasa_Dependencia_Directa  196 non-null    float64\n",
      " 5   Year                         196 non-null    int64  \n",
      " 6   Month                        196 non-null    int64  \n",
      "dtypes: float64(4), int64(2), object(1)\n",
      "memory usage: 10.8+ KB\n",
      "<class 'pandas.core.frame.DataFrame'>\n",
      "RangeIndex: 204 entries, 0 to 203\n",
      "Data columns (total 12 columns):\n",
      " #   Column                  Non-Null Count  Dtype \n",
      "---  ------                  --------------  ----- \n",
      " 0   Periodo de Cobertura    204 non-null    object\n",
      " 1   SFS_Total               204 non-null    int64 \n",
      " 2   SFS_Hombres             204 non-null    int64 \n",
      " 3   SFS_Mujeres             204 non-null    int64 \n",
      " 4   Reg_Subsidiado_Total    204 non-null    int64 \n",
      " 5   Reg_Subsidiado_Hombres  204 non-null    int64 \n",
      " 6   Reg_Subsidiado_Mujeres  204 non-null    int64 \n",
      " 7   RC_Total                204 non-null    int64 \n",
      " 8   RC_Hombres              204 non-null    int64 \n",
      " 9   RC_Mujeres              204 non-null    int64 \n",
      " 10  Year                    204 non-null    int64 \n",
      " 11  Month                   204 non-null    int64 \n",
      "dtypes: int64(11), object(1)\n",
      "memory usage: 19.3+ KB\n",
      "<class 'pandas.core.frame.DataFrame'>\n",
      "RangeIndex: 204 entries, 0 to 203\n",
      "Data columns (total 9 columns):\n",
      " #   Column                                       Non-Null Count  Dtype  \n",
      "---  ------                                       --------------  -----  \n",
      " 0   Periodo de Cobertura                         204 non-null    object \n",
      " 1   Poblacion Total proyectada                   204 non-null    int64  \n",
      " 2   Porcentaje de Población Cubierta por el SFS  204 non-null    float64\n",
      " 3   Total Seguro Familiar de Salud               204 non-null    int64  \n",
      " 4   Reg_Subsidiado                               204 non-null    int64  \n",
      " 5   Reg_Contributivo                             196 non-null    float64\n",
      " 6   Reg_PensionadosJub                           175 non-null    float64\n",
      " 7   Year                                         204 non-null    int64  \n",
      " 8   Month                                        204 non-null    int64  \n",
      "dtypes: float64(3), int64(5), object(1)\n",
      "memory usage: 14.5+ KB\n"
     ]
    }
   ],
   "source": [
    "# data_path = \"data/SISALRIL/afiliacion/Afiliacion_SFS_PBS_03.xlsx\"\n",
    "datafile = 'data/SISALRIL/afiliacion/SFS_Afiliacion_Tasa_Regimen.csv'\n",
    "# Extraer_SFS_Afiliacion_Tasa_Regimen(data_path,  archivocsv=datafile)\n",
    "df_SFS_Afiliacion_Tasa_Regimen = pd.read_csv(datafile)\n",
    "#df_SFS_Afiliacion_Tasa_Regimen.info()\n",
    "\n",
    "# data_path = \"data/SISALRIL/afiliacion/Afiliacion_SFS_PBS_05.xlsx\"\n",
    "datafile = 'data/SISALRIL/afiliacion/SFS_Regimen_Sexo.csv'\n",
    "# Extraer_SFS_Regimen_Sexo(data_path,  archivocsv=datafile)\n",
    "df_SFS_Regimen_Sexo = pd.read_csv(datafile)\n",
    "#df_SFS_Regimen_Sexo.info()\n",
    "\n",
    "# data_path = \"data/SISALRIL/afiliacion/Afiliacion_SFS_PBS_07.xlsx\"\n",
    "datafile = 'data/SISALRIL/afiliacion/SFS_Porcentaje_Regimen.csv'\n",
    "# Extraer_SFS_Porcentaje_Regimen(data_path,  archivocsv=datafile)\n",
    "df_SFS_Porcentaje_Regimen = pd.read_csv(datafile)\n",
    "#df_SFS_Porcentaje_Regimen.info()\n",
    "\n"
   ]
  },
  {
   "cell_type": "code",
   "execution_count": 103,
   "id": "3b4c579a-68ae-4754-bec3-81df7f362f07",
   "metadata": {
    "tags": []
   },
   "outputs": [
    {
     "name": "stdout",
     "output_type": "stream",
     "text": [
      "<class 'pandas.core.frame.DataFrame'>\n",
      "Int64Index: 196 entries, 0 to 195\n",
      "Data columns (total 22 columns):\n",
      " #   Column                                       Non-Null Count  Dtype  \n",
      "---  ------                                       --------------  -----  \n",
      " 0   Periodo de Cobertura                         196 non-null    object \n",
      " 1   SFS_Total                                    196 non-null    int64  \n",
      " 2   SFS_Hombres                                  196 non-null    int64  \n",
      " 3   SFS_Mujeres                                  196 non-null    int64  \n",
      " 4   Reg_Subsidiado_Total                         196 non-null    int64  \n",
      " 5   Reg_Subsidiado_Hombres                       196 non-null    int64  \n",
      " 6   Reg_Subsidiado_Mujeres                       196 non-null    int64  \n",
      " 7   RC_Total                                     196 non-null    int64  \n",
      " 8   RC_Hombres                                   196 non-null    int64  \n",
      " 9   RC_Mujeres                                   196 non-null    int64  \n",
      " 10  Year                                         196 non-null    int64  \n",
      " 11  Month                                        196 non-null    int64  \n",
      " 12  Poblacion Total proyectada                   196 non-null    int64  \n",
      " 13  Porcentaje de Población Cubierta por el SFS  196 non-null    float64\n",
      " 14  Total Seguro Familiar de Salud               196 non-null    int64  \n",
      " 15  Reg_Subsidiado                               196 non-null    int64  \n",
      " 16  Reg_Contributivo                             196 non-null    float64\n",
      " 17  Reg_PensionadosJub                           175 non-null    float64\n",
      " 18  SFS                                          196 non-null    float64\n",
      " 19  Tasa_Dep_Regimen_Subsidiado                  196 non-null    float64\n",
      " 20  RC_Tasa_Dependencia                          196 non-null    float64\n",
      " 21  RC_Tasa_Dependencia_Directa                  196 non-null    float64\n",
      "dtypes: float64(7), int64(14), object(1)\n",
      "memory usage: 35.2+ KB\n",
      "None\n"
     ]
    }
   ],
   "source": [
    "\n",
    "#merge_and_save_dataframes(dfs, output_file, on_columns, suffixes):\n",
    "# Cargar los DataFrames\n",
    "df1 = df_SFS_Regimen_Sexo\n",
    "df2 = df_SFS_Porcentaje_Regimen\n",
    "df3 = df_SFS_Afiliacion_Tasa_Regimen\n",
    "\n",
    "# Definir el nombre del archivo de salida\n",
    "output_file = 'data/SISALRIL/financiamiento/SFS_Regimen_Sexo_Porcentaje_Tasa.csv'\n",
    "# Definir las columnas para realizar la unión\n",
    "on_columns = [\"Periodo de Cobertura\", \"Year\", \"Month\"]\n",
    "\n",
    "# Definir los sufijos para las columnas de los DataFrames\n",
    "suffixes = ('_Regimen_Sexo', '_Porcentaje','tasa_regimen')\n",
    "\n",
    "# Llamar a la función para unir y guardar los DataFrames\n",
    "merge_and_save_dataframes([df1, df2,df3], output_file, on_columns, suffixes)"
   ]
  },
  {
   "cell_type": "code",
   "execution_count": 15,
   "id": "ad3ecafd-d18f-4667-a7a5-a36ad104332d",
   "metadata": {
    "tags": []
   },
   "outputs": [
    {
     "name": "stdout",
     "output_type": "stream",
     "text": [
      "<class 'pandas.core.frame.DataFrame'>\n",
      "Int64Index: 388 entries, 0 to 387\n",
      "Data columns (total 59 columns):\n",
      " #   Column                     Non-Null Count  Dtype \n",
      "---  ------                     --------------  ----- \n",
      " 0   Periodo de Cobertura       388 non-null    object\n",
      " 1   Total Cotizantes           388 non-null    int64 \n",
      " 2   15-19_cotizantes           388 non-null    int64 \n",
      " 3   20-24_cotizantes           388 non-null    int64 \n",
      " 4   25-29_cotizantes           388 non-null    int64 \n",
      " 5   30-34_cotizantes           388 non-null    int64 \n",
      " 6   35-39_cotizantes           388 non-null    int64 \n",
      " 7   40-44_cotizantes           388 non-null    int64 \n",
      " 8   45-49_cotizantes           388 non-null    int64 \n",
      " 9   50-54_cotizantes           388 non-null    int64 \n",
      " 10  55-59_cotizantes           388 non-null    int64 \n",
      " 11  60-64_cotizantes           388 non-null    int64 \n",
      " 12  65-69_cotizantes           388 non-null    int64 \n",
      " 13  70-74_cotizantes           388 non-null    int64 \n",
      " 14  75-79_cotizantes           388 non-null    int64 \n",
      " 15  80-84_cotizantes           388 non-null    int64 \n",
      " 16  85 y mas_cotizantes        388 non-null    int64 \n",
      " 17  No Especificada            388 non-null    int64 \n",
      " 18  Year                       388 non-null    int64 \n",
      " 19  Month                      388 non-null    int64 \n",
      " 20  Sexo                       388 non-null    object\n",
      " 21  Total Afiliados            388 non-null    int64 \n",
      " 22  0-4                        388 non-null    int64 \n",
      " 23  5-9                        388 non-null    int64 \n",
      " 24  10-14                      388 non-null    int64 \n",
      " 25  15-19_nocotizantes         388 non-null    int64 \n",
      " 26  20-24_nocotizantes         388 non-null    int64 \n",
      " 27  25-29_nocotizantes         388 non-null    int64 \n",
      " 28  30-34_nocotizantes         388 non-null    int64 \n",
      " 29  35-39_nocotizantes         388 non-null    int64 \n",
      " 30  40-44_nocotizantes         388 non-null    int64 \n",
      " 31  45-49_nocotizantes         388 non-null    int64 \n",
      " 32  50-54_nocotizantes         388 non-null    int64 \n",
      " 33  55-59_nocotizantes         388 non-null    int64 \n",
      " 34  60-64_nocotizantes         388 non-null    int64 \n",
      " 35  65-69_nocotizantes         388 non-null    int64 \n",
      " 36  70-74_nocotizantes         388 non-null    int64 \n",
      " 37  75-79_nocotizantes         388 non-null    int64 \n",
      " 38  80-84_nocotizantes         388 non-null    int64 \n",
      " 39  85 y mas_nocotizantes      388 non-null    int64 \n",
      " 40  Total Afiliados_afiliados  388 non-null    int64 \n",
      " 41  0-4_afiliados              388 non-null    int64 \n",
      " 42  5-9_afiliados              388 non-null    int64 \n",
      " 43  10-14_afiliados            388 non-null    int64 \n",
      " 44  15-19                      388 non-null    int64 \n",
      " 45  20-24                      388 non-null    int64 \n",
      " 46  25-29                      388 non-null    int64 \n",
      " 47  30-34                      388 non-null    int64 \n",
      " 48  35-39                      388 non-null    int64 \n",
      " 49  40-44                      388 non-null    int64 \n",
      " 50  45-49                      388 non-null    int64 \n",
      " 51  50-54                      388 non-null    int64 \n",
      " 52  55-59                      388 non-null    int64 \n",
      " 53  60-64                      388 non-null    int64 \n",
      " 54  65-69                      388 non-null    int64 \n",
      " 55  70-74                      388 non-null    int64 \n",
      " 56  75-79                      388 non-null    int64 \n",
      " 57  80-84                      388 non-null    int64 \n",
      " 58  85 y Más                   388 non-null    int64 \n",
      "dtypes: int64(57), object(2)\n",
      "memory usage: 181.9+ KB\n"
     ]
    }
   ],
   "source": [
    "# Carga de los DataFrames desde los archivos CSV\n",
    "df_RC_Afiliados_Edad_Sexo = pd.read_csv('data/SISALRIL/afiliacion/RC_Afiliados_Edad_Sexo.csv')\n",
    "df_RC_AfiliadosCotizantes_Edad_Sexo = pd.read_csv('data/SISALRIL/afiliacion/RC_AfiliadosCotizantes_Edad_Sexo.csv')\n",
    "df_RC_AfiliadosNoCotizantes_Edad_Sexo = pd.read_csv('data/SISALRIL/afiliacion/RC_AfiliadosNoCotizantes_Edad_Sexo.csv')\n",
    "\n",
    "# Unión de los DataFrames\n",
    "merged_df = pd.merge( df_RC_AfiliadosCotizantes_Edad_Sexo, df_RC_AfiliadosNoCotizantes_Edad_Sexo, on=[\"Periodo de Cobertura\", \"Year\", \"Month\", \"Sexo\"], suffixes=('_cotizantes','_nocotizantes'))\n",
    "merged_df = pd.merge(merged_df,df_RC_Afiliados_Edad_Sexo, on=[\"Periodo de Cobertura\", \"Year\", \"Month\", \"Sexo\"], suffixes=('', '_afiliados'))\n",
    "\n",
    "# Renombrar el DataFrame resultante\n",
    "df_afiliaciones_completas = merged_df\n",
    "\n",
    "# Guardar el DataFrame en un archivo CSV\n",
    "df_afiliaciones_completas.to_csv('data/SISALRIL/afiliacion/afiliaciones_completas.csv', index=False)\n",
    "df_afiliaciones_completas.info()"
   ]
  },
  {
   "cell_type": "code",
   "execution_count": 16,
   "id": "204d7d56-dada-4799-9616-503be475fabe",
   "metadata": {
    "tags": []
   },
   "outputs": [
    {
     "name": "stdout",
     "output_type": "stream",
     "text": [
      "<class 'pandas.core.frame.DataFrame'>\n",
      "Int64Index: 196 entries, 0 to 195\n",
      "Data columns (total 45 columns):\n",
      " #   Column                                       Non-Null Count  Dtype \n",
      "---  ------                                       --------------  ----- \n",
      " 0   Periodo de Cobertura                         196 non-null    object\n",
      " 1   Year                                         196 non-null    int64 \n",
      " 2   Month                                        196 non-null    int64 \n",
      " 3   Total general_cotizantes                     196 non-null    int64 \n",
      " 4   Total Región Distrito Nacional_cotizantes    196 non-null    int64 \n",
      " 5   Total 0 - Santo Domingo_cotizantes           196 non-null    int64 \n",
      " 6   Total Región Este_cotizantes                 196 non-null    int64 \n",
      " 7   Total V - Este_cotizantes                    196 non-null    int64 \n",
      " 8   Total Región Norte_cotizantes                196 non-null    int64 \n",
      " 9   Total II - Norcentral_cotizantes             196 non-null    int64 \n",
      " 10  Total III - Nordeste_cotizantes              196 non-null    int64 \n",
      " 11  Total VII - Cibao Occidental_cotizantes      196 non-null    int64 \n",
      " 12  Total VIII - Cibao Central_cotizantes        196 non-null    int64 \n",
      " 13  Total Región Sur_cotizantes                  196 non-null    int64 \n",
      " 14  Total I - Valdesia_cotizantes                196 non-null    int64 \n",
      " 15  Total IV - Enriquillo_cotizantes             196 non-null    int64 \n",
      " 16  Total VI - El Valle_cotizantes               196 non-null    int64 \n",
      " 17  Total general_nocotizantes                   196 non-null    int64 \n",
      " 18  Total Región Distrito Nacional_nocotizantes  196 non-null    int64 \n",
      " 19  Total 0 - Santo Domingo_nocotizantes         196 non-null    int64 \n",
      " 20  Total Región Este_nocotizantes               196 non-null    int64 \n",
      " 21  Total V - Este_nocotizantes                  196 non-null    int64 \n",
      " 22  Total Región Norte_nocotizantes              196 non-null    int64 \n",
      " 23  Total II - Norcentral_nocotizantes           196 non-null    int64 \n",
      " 24  Total III - Nordeste_nocotizantes            196 non-null    int64 \n",
      " 25  Total VII - Cibao Occidental_nocotizantes    196 non-null    int64 \n",
      " 26  Total VIII - Cibao Central_nocotizantes      196 non-null    int64 \n",
      " 27  Total Región Sur_nocotizantes                196 non-null    int64 \n",
      " 28  Total I - Valdesia_nocotizantes              196 non-null    int64 \n",
      " 29  Total IV - Enriquillo_nocotizantes           196 non-null    int64 \n",
      " 30  Total VI - El Valle_nocotizantes             196 non-null    int64 \n",
      " 31  Total general                                196 non-null    int64 \n",
      " 32  Total Región Distrito Nacional               196 non-null    int64 \n",
      " 33  Total 0 - Santo Domingo                      196 non-null    int64 \n",
      " 34  Total Región Este                            196 non-null    int64 \n",
      " 35  Total V - Este                               196 non-null    int64 \n",
      " 36  Total Región Norte                           196 non-null    int64 \n",
      " 37  Total II - Norcentral                        196 non-null    int64 \n",
      " 38  Total III - Nordeste                         196 non-null    int64 \n",
      " 39  Total VII - Cibao Occidental                 196 non-null    int64 \n",
      " 40  Total VIII - Cibao Central                   196 non-null    int64 \n",
      " 41  Total Región Sur                             196 non-null    int64 \n",
      " 42  Total I - Valdesia                           196 non-null    int64 \n",
      " 43  Total IV - Enriquillo                        196 non-null    int64 \n",
      " 44  Total VI - El Valle                          196 non-null    int64 \n",
      "dtypes: int64(44), object(1)\n",
      "memory usage: 70.4+ KB\n"
     ]
    }
   ],
   "source": [
    "# Cargar los DataFrames\n",
    "df_RC_Datos_Regionales = pd.read_csv('data/SISALRIL/afiliacion/RC_Datos_Regionales.csv')\n",
    "df_RC_Datos_Regionales_Cotizantes = pd.read_csv('data/SISALRIL/afiliacion/RC_Datos_Regionales_Cotizantes.csv')\n",
    "df_RC_Datos_Regionales_NoCotizantes = pd.read_csv('data/SISALRIL/afiliacion/RC_Datos_Regionales_NoCotizantes.csv')\n",
    "\n",
    "# Seleccionar solo las columnas que contienen la palabra \"Total\"\n",
    "df_RC_Datos_Regionales_Total = df_RC_Datos_Regionales.filter(like='Total')\n",
    "df_RC_Datos_Regionales_Cotizantes_Total = df_RC_Datos_Regionales_Cotizantes.filter(like='Total')\n",
    "df_RC_Datos_Regionales_NoCotizantes_Total = df_RC_Datos_Regionales_NoCotizantes.filter(like='Total')\n",
    "\n",
    "# Filtrar las columnas necesarias en los DataFrames filtrados\n",
    "df_RC_Datos_Regionales_Total = df_RC_Datos_Regionales[['Periodo de Cobertura', 'Year', 'Month'] + list(df_RC_Datos_Regionales_Total.columns)]\n",
    "df_RC_Datos_Regionales_Cotizantes_Total = df_RC_Datos_Regionales_Cotizantes[['Periodo de Cobertura', 'Year', 'Month'] + list(df_RC_Datos_Regionales_Cotizantes_Total.columns)]\n",
    "df_RC_Datos_Regionales_NoCotizantes_Total = df_RC_Datos_Regionales_NoCotizantes[['Periodo de Cobertura', 'Year', 'Month'] + list(df_RC_Datos_Regionales_NoCotizantes_Total.columns)]\n",
    "\n",
    "# Ordenar sufijos y DataFrames regionales para el merge\n",
    "merged_df = pd.merge(df_RC_Datos_Regionales_Cotizantes_Total, df_RC_Datos_Regionales_NoCotizantes_Total, on=[\"Periodo de Cobertura\", \"Year\", \"Month\"], suffixes=('_cotizantes','_nocotizantes'))\n",
    "merged_df = pd.merge(merged_df, df_RC_Datos_Regionales_Total, on=[\"Periodo de Cobertura\", \"Year\", \"Month\"], suffixes=('', '_afiliados'))\n",
    "\n",
    "nombre_df_merge = \"RC_Datos_Regionales_Total_Combinado\"\n",
    "# Guardar el DataFrame merge en un archivo CSV\n",
    "ruta_archivo_csv = f\"data/SISALRIL/afiliacion/{nombre_df_merge}.csv\"\n",
    "merged_df.to_csv(ruta_archivo_csv, index=False)\n",
    "\n",
    "merged_df.info()"
   ]
  },
  {
   "cell_type": "code",
   "execution_count": 17,
   "id": "8062c00b-1549-4ce5-9d9f-11fe91e8fc47",
   "metadata": {
    "tags": []
   },
   "outputs": [
    {
     "name": "stdout",
     "output_type": "stream",
     "text": [
      "<class 'pandas.core.frame.DataFrame'>\n",
      "Int64Index: 196 entries, 0 to 195\n",
      "Data columns (total 18 columns):\n",
      " #   Column                                       Non-Null Count  Dtype \n",
      "---  ------                                       --------------  ----- \n",
      " 0   Periodo de Cobertura                         196 non-null    object\n",
      " 1   Year                                         196 non-null    int64 \n",
      " 2   Month                                        196 non-null    int64 \n",
      " 3   Total general_cotizantes                     196 non-null    int64 \n",
      " 4   Total general_nocotizantes                   196 non-null    int64 \n",
      " 5   Total general                                196 non-null    int64 \n",
      " 6   Total Región Distrito Nacional_cotizantes    196 non-null    int64 \n",
      " 7   Total Región Este_cotizantes                 196 non-null    int64 \n",
      " 8   Total Región Norte_cotizantes                196 non-null    int64 \n",
      " 9   Total Región Sur_cotizantes                  196 non-null    int64 \n",
      " 10  Total Región Distrito Nacional_nocotizantes  196 non-null    int64 \n",
      " 11  Total Región Este_nocotizantes               196 non-null    int64 \n",
      " 12  Total Región Norte_nocotizantes              196 non-null    int64 \n",
      " 13  Total Región Sur_nocotizantes                196 non-null    int64 \n",
      " 14  Total Región Distrito Nacional               196 non-null    int64 \n",
      " 15  Total Región Este                            196 non-null    int64 \n",
      " 16  Total Región Norte                           196 non-null    int64 \n",
      " 17  Total Región Sur                             196 non-null    int64 \n",
      "dtypes: int64(17), object(1)\n",
      "memory usage: 29.1+ KB\n"
     ]
    }
   ],
   "source": [
    "# Filtrar las columnas necesarias después del merge\n",
    "regiones_geograficas = df_RC_Tabla_Regiones['Región Geográfica/2'].unique()\n",
    "columnas_regionales = [col for col in merged_df.columns if any(region in col for region in regiones_geograficas)]\n",
    "columnas_totales_generales = [col for col in merged_df.columns if 'Total general' in col]\n",
    "merged_df = merged_df[['Periodo de Cobertura', 'Year', 'Month'] + columnas_totales_generales + columnas_regionales]\n",
    "\n",
    "nombre_df_merge = \"RC_Region_Geografica_Total_Combinado\"\n",
    "# Guardar el DataFrame merge en un archivo CSV\n",
    "ruta_archivo_csv = f\"data/SISALRIL/afiliacion/{nombre_df_merge}.csv\"\n",
    "merged_df.to_csv(ruta_archivo_csv, index=False)\n",
    "merged_df.info()"
   ]
  },
  {
   "cell_type": "code",
   "execution_count": null,
   "id": "bf5ed616-d80c-4c4c-a4c2-aac23d5643ce",
   "metadata": {
    "tags": []
   },
   "outputs": [],
   "source": []
  },
  {
   "cell_type": "markdown",
   "id": "62ec9b5c-c8e1-4b68-b9f1-ad6edb5a67bf",
   "metadata": {
    "tags": []
   },
   "source": [
    "## Financiamiento\n"
   ]
  },
  {
   "cell_type": "code",
   "execution_count": 95,
   "id": "2a5903be-041e-4b48-b18c-f05b37368001",
   "metadata": {
    "tags": []
   },
   "outputs": [],
   "source": [
    "extraer_financiamiento()"
   ]
  },
  {
   "cell_type": "code",
   "execution_count": 96,
   "id": "27cd2072-a8c6-4fbe-91e4-f9845b23cf96",
   "metadata": {
    "tags": []
   },
   "outputs": [
    {
     "name": "stdout",
     "output_type": "stream",
     "text": [
      "<class 'pandas.core.frame.DataFrame'>\n",
      "RangeIndex: 196 entries, 0 to 195\n",
      "Data columns (total 15 columns):\n",
      " #   Column                               Non-Null Count  Dtype \n",
      "---  ------                               --------------  ----- \n",
      " 0   Periodo de Cobertura                 196 non-null    object\n",
      " 1   Total_Capitas_Dispersadas            196 non-null    int64 \n",
      " 2   Total_Capitas_Dispersada_mes         196 non-null    int64 \n",
      " 3   Total_Capitas_Dispersada_posterior   196 non-null    int64 \n",
      " 4   Titulares_Total                      196 non-null    int64 \n",
      " 5   Titulares_Dispersadas_mes            196 non-null    int64 \n",
      " 6   Titulares_Dispersadas_posterior      196 non-null    int64 \n",
      " 7   Dependientes_Total                   196 non-null    int64 \n",
      " 8   Dependientes_Dispersadas_mes         196 non-null    int64 \n",
      " 9   Dependientess_Dispersadas_posterior  196 non-null    int64 \n",
      " 10  Adicionales_Total                    196 non-null    int64 \n",
      " 11  Adicionales_Dispersadas_mes          196 non-null    int64 \n",
      " 12  Adicionales_Dispersadas_posterior    196 non-null    int64 \n",
      " 13  Year                                 196 non-null    int64 \n",
      " 14  Month                                196 non-null    int64 \n",
      "dtypes: int64(14), object(1)\n",
      "memory usage: 23.1+ KB\n",
      "None\n",
      "<class 'pandas.core.frame.DataFrame'>\n",
      "RangeIndex: 196 entries, 0 to 195\n",
      "Data columns (total 15 columns):\n",
      " #   Column                               Non-Null Count  Dtype \n",
      "---  ------                               --------------  ----- \n",
      " 0   Periodo de Cobertura                 196 non-null    object\n",
      " 1   Total_Monto_Dispersadas              196 non-null    int64 \n",
      " 2   Total_Monto_Dispersada_mes           196 non-null    int64 \n",
      " 3   Total_Monto_Dispersada_posterior     196 non-null    int64 \n",
      " 4   Titulares_Total                      196 non-null    int64 \n",
      " 5   Titulares_Dispersadas_mes            196 non-null    int64 \n",
      " 6   Titulares_Dispersadas_posterior      196 non-null    int64 \n",
      " 7   Dependientes_Total                   196 non-null    int64 \n",
      " 8   Dependientes_Dispersadas_mes         196 non-null    int64 \n",
      " 9   Dependientess_Dispersadas_posterior  196 non-null    int64 \n",
      " 10  Adicionales_Total                    196 non-null    int64 \n",
      " 11  Adicionales_Dispersadas_mes          196 non-null    int64 \n",
      " 12  Adicionales_Dispersadas_posterior    196 non-null    int64 \n",
      " 13  Year                                 196 non-null    int64 \n",
      " 14  Month                                196 non-null    int64 \n",
      "dtypes: int64(14), object(1)\n",
      "memory usage: 23.1+ KB\n",
      "None\n"
     ]
    }
   ],
   "source": [
    "data_path = \"data/SISALRIL/financiamiento/Financiamiento_RC_PBS_01.xlsx\"\n",
    "datafile = 'data/SISALRIL/financiamiento/CapitasDispersadoARS_TipoAfiliado_postMes.csv'\n",
    "\n",
    "df_RC_CapitasDispersadoARS_TipoAfiliado_postMes = pd.read_csv(datafile)\n",
    "print(df_RC_CapitasDispersadoARS_TipoAfiliado_postMes.info())\n",
    "\n",
    "data_path = \"data/SISALRIL/financiamiento/Financiamiento_RC_PBS_01.xlsx\"\n",
    "datafile = 'data/SISALRIL/financiamiento/MontoDispersadoARS_TipoAfiliado_postMes.csv'\n",
    "df_RC_MontoDispersadoARS_TipoAfiliado_postMes = pd.read_csv(datafile)\n",
    "df = df_RC_MontoDispersadoARS_TipoAfiliado_postMes\n",
    "\n",
    "nuevas_columnas = {col: col.replace(\"Capitas\", \"Monto\") for col in df.columns}\n",
    "df = df.rename(columns=nuevas_columnas)\n",
    "df_RC_MontoDispersadoARS_TipoAfiliado_postMes =df\n",
    "df.to_csv(datafile, index=False)\n",
    "print(df_RC_MontoDispersadoARS_TipoAfiliado_postMes.info())\n",
    "\n"
   ]
  },
  {
   "cell_type": "code",
   "execution_count": 97,
   "id": "8d46b5b4-d285-4b9e-837b-18e5bbdf4ca3",
   "metadata": {
    "tags": []
   },
   "outputs": [
    {
     "name": "stdout",
     "output_type": "stream",
     "text": [
      "<class 'pandas.core.frame.DataFrame'>\n",
      "Int64Index: 196 entries, 0 to 195\n",
      "Data columns (total 27 columns):\n",
      " #   Column                                       Non-Null Count  Dtype \n",
      "---  ------                                       --------------  ----- \n",
      " 0   Periodo de Cobertura                         196 non-null    object\n",
      " 1   Total_Capitas_Dispersadas                    196 non-null    int64 \n",
      " 2   Total_Capitas_Dispersada_mes                 196 non-null    int64 \n",
      " 3   Total_Capitas_Dispersada_posterior           196 non-null    int64 \n",
      " 4   Titulares_Total_capitas                      196 non-null    int64 \n",
      " 5   Titulares_Dispersadas_mes_capitas            196 non-null    int64 \n",
      " 6   Titulares_Dispersadas_posterior_capitas      196 non-null    int64 \n",
      " 7   Dependientes_Total_capitas                   196 non-null    int64 \n",
      " 8   Dependientes_Dispersadas_mes_capitas         196 non-null    int64 \n",
      " 9   Dependientess_Dispersadas_posterior_capitas  196 non-null    int64 \n",
      " 10  Adicionales_Total_capitas                    196 non-null    int64 \n",
      " 11  Adicionales_Dispersadas_mes_capitas          196 non-null    int64 \n",
      " 12  Adicionales_Dispersadas_posterior_capitas    196 non-null    int64 \n",
      " 13  Year                                         196 non-null    int64 \n",
      " 14  Month                                        196 non-null    int64 \n",
      " 15  Total_Monto_Dispersadas                      196 non-null    int64 \n",
      " 16  Total_Monto_Dispersada_mes                   196 non-null    int64 \n",
      " 17  Total_Monto_Dispersada_posterior             196 non-null    int64 \n",
      " 18  Titulares_Total_monto                        196 non-null    int64 \n",
      " 19  Titulares_Dispersadas_mes_monto              196 non-null    int64 \n",
      " 20  Titulares_Dispersadas_posterior_monto        196 non-null    int64 \n",
      " 21  Dependientes_Total_monto                     196 non-null    int64 \n",
      " 22  Dependientes_Dispersadas_mes_monto           196 non-null    int64 \n",
      " 23  Dependientess_Dispersadas_posterior_monto    196 non-null    int64 \n",
      " 24  Adicionales_Total_monto                      196 non-null    int64 \n",
      " 25  Adicionales_Dispersadas_mes_monto            196 non-null    int64 \n",
      " 26  Adicionales_Dispersadas_posterior_monto      196 non-null    int64 \n",
      "dtypes: int64(26), object(1)\n",
      "memory usage: 42.9+ KB\n",
      "None\n"
     ]
    }
   ],
   "source": [
    "\n",
    "#merge_and_save_dataframes(dfs, output_file, on_columns, suffixes):\n",
    "# Cargar los DataFrames\n",
    "df1 = df_RC_CapitasDispersadoARS_TipoAfiliado_postMes\n",
    "df2 = df_RC_MontoDispersadoARS_TipoAfiliado_postMes\n",
    "\n",
    "\n",
    "# Definir el nombre del archivo de salida\n",
    "output_file = 'data/SISALRIL/financiamiento/Financiamiento_DispersadoARS_TipoAfiliado_postMes.csv'\n",
    "# Definir las columnas para realizar la unión\n",
    "on_columns = [\"Periodo de Cobertura\", \"Year\", \"Month\"]\n",
    "\n",
    "# Definir los sufijos para las columnas de los DataFrames\n",
    "suffixes = ('_capitas', '_monto')\n",
    "\n",
    "# Llamar a la función para unir y guardar los DataFrames\n",
    "merge_and_save_dataframes([df1, df2], output_file, on_columns, suffixes)\n"
   ]
  },
  {
   "cell_type": "code",
   "execution_count": null,
   "id": "a4c6b5b3-d556-46a6-82b1-c5e5a292738f",
   "metadata": {
    "tags": []
   },
   "outputs": [],
   "source": []
  },
  {
   "cell_type": "code",
   "execution_count": null,
   "id": "91062c87-8af0-4fbe-af23-9a206930bb1a",
   "metadata": {},
   "outputs": [],
   "source": []
  },
  {
   "cell_type": "code",
   "execution_count": 70,
   "id": "5a24c9b0-6c08-4d83-808c-7cba06d45e2c",
   "metadata": {
    "tags": []
   },
   "outputs": [],
   "source": [
    "data_path = \"data/SISALRIL/financiamiento/Financiamiento_RC_PBS_03.xlsx\"\n",
    "datafile = 'data/SISALRIL/financiamiento/CapitasDispersadoARS_Autogestion_postMes.csv'\n",
    "df_RC_CapitasDispersadoARS_Autogestion_postMes = pd.read_csv(datafile)\n",
    "#print(df_RC_CapitasDispersadoARS_Autogestion_postMes.info())\n",
    "\n",
    "data_path = \"data/SISALRIL/financiamiento/Financiamiento_RC_PBS_03.xlsx\"\n",
    "datafile = 'data/SISALRIL/financiamiento/MontoDispersadoARS_Autogestion_postMes.csv'\n",
    "df_RC_MontoDispersadoARS_Autogestion_postMes = pd.read_csv(datafile)\n",
    "df = df_RC_MontoDispersadoARS_Autogestion_postMes\n",
    "nuevas_columnas = {col: col.replace(\"Capitas\", \"Monto\") for col in df.columns}\n",
    "df = df.rename(columns=nuevas_columnas)\n",
    "df_RC_MontoDispersadoARS_Autogestion_postMes =df\n",
    "df.to_csv(datafile, index=False)\n",
    "#print(df_RC_MontoDispersadoARS_Autogestion_postMes.info())"
   ]
  },
  {
   "cell_type": "code",
   "execution_count": 71,
   "id": "3b18165c-5c20-4ec8-82fc-c44a813ab360",
   "metadata": {
    "tags": []
   },
   "outputs": [
    {
     "name": "stdout",
     "output_type": "stream",
     "text": [
      "<class 'pandas.core.frame.DataFrame'>\n",
      "Int64Index: 196 entries, 0 to 195\n",
      "Data columns (total 28 columns):\n",
      " #   Column                                       Non-Null Count  Dtype \n",
      "---  ------                                       --------------  ----- \n",
      " 0   Periodo de Cobertura                         196 non-null    object\n",
      " 1   Total_Capitas_Dispersadas                    196 non-null    int64 \n",
      " 2   Total_Capitas_Dispersada_mes                 196 non-null    int64 \n",
      " 3   Total_Capitas_Dispersada_posterior           196 non-null    int64 \n",
      " 4   Titulares_Total_capitas                      196 non-null    int64 \n",
      " 5   Titulares_Dispersadas_mes_capitas            196 non-null    int64 \n",
      " 6   Titulares_Dispersadas_posterior_capitas      196 non-null    int64 \n",
      " 7   Dependientes_Total_capitas                   196 non-null    int64 \n",
      " 8   Dependientes_Dispersadas_mes_capitas         196 non-null    int64 \n",
      " 9   Dependientess_Dispersadas_posterior_capitas  196 non-null    int64 \n",
      " 10  Adicionales_Total_capitas                    196 non-null    int64 \n",
      " 11  Adicionales_Dispersadas_mes_capitas          196 non-null    int64 \n",
      " 12  Adicionales_Dispersadas_posterior_capitas    196 non-null    int64 \n",
      " 13  Year                                         196 non-null    int64 \n",
      " 14  Month                                        196 non-null    int64 \n",
      " 15  Total_Monto_Dispersadas                      196 non-null    int64 \n",
      " 16  Total_Monto_Dispersada_mes                   196 non-null    int64 \n",
      " 17  Total_Monto_Dispersada_posterior             196 non-null    int64 \n",
      " 18  Titulares_Total_monto                        196 non-null    int64 \n",
      " 19  Titulares_Dispersadas_mes_monto              196 non-null    int64 \n",
      " 20  Titulares_Dispersadas_posterior_monto        196 non-null    int64 \n",
      " 21  Dependientes_Total_monto                     196 non-null    int64 \n",
      " 22  Dependientes_Dispersadas_mes_monto           196 non-null    int64 \n",
      " 23  Dependientess_Dispersadas_posterior_monto    196 non-null    int64 \n",
      " 24  Adicionales_Total_monto                      196 non-null    int64 \n",
      " 25  Adicionales_Dispersadas_mes_monto            196 non-null    int64 \n",
      " 26  Adicionales_Dispersadas_posterior_monto      196 non-null    int64 \n",
      " 27  Tipo_de_ARS                                  196 non-null    object\n",
      "dtypes: int64(26), object(2)\n",
      "memory usage: 44.4+ KB\n",
      "None\n"
     ]
    }
   ],
   "source": [
    "# Cargar los DataFrames\n",
    "df1 = df_RC_CapitasDispersadoARS_Autogestion_postMes\n",
    "df2 = df_RC_MontoDispersadoARS_Autogestion_postMes\n",
    "\n",
    "\n",
    "# Realizar la unión de los DataFrames\n",
    "df_union = pd.merge(df1, df2, on=[\"Periodo de Cobertura\", \"Year\", \"Month\"],suffixes=('_capitas', '_monto'))\n",
    "\n",
    "# Guardar el resultado en un archivo CSV\n",
    "output_file = 'data/SISALRIL/financiamiento/Financiamiento_DispersadoARS_Autogestion_postMes.csv'\n",
    "df_union['Tipo_de_ARS'] ='Autogestion'\n",
    "print(df_union.info())\n",
    "df_union.to_csv(output_file, index=False)\n",
    "\n",
    "# Imprimir información "
   ]
  },
  {
   "cell_type": "code",
   "execution_count": 68,
   "id": "2e8dd5f2-7133-4f72-b6c4-750df6bb0f6f",
   "metadata": {
    "tags": []
   },
   "outputs": [],
   "source": [
    "data_path = \"data/SISALRIL/financiamiento/Financiamiento_RC_PBS_04.xlsx\"\n",
    "datafile = 'data/SISALRIL/financiamiento/CapitasDispersadoARS_Privada_postMes.csv'\n",
    "df_RC_CapitasDispersadoARS_Privada_postMes = pd.read_csv(datafile)\n",
    "\n",
    "#print(df_RC_CapitasDispersadoARS_Privada_postMes.info())\n",
    "\n",
    "data_path = \"data/SISALRIL/financiamiento/Financiamiento_RC_PBS_04.xlsx\"\n",
    "datafile = 'data/SISALRIL/financiamiento/MontoDispersadoARS_Privada_postMes.csv'\n",
    "df_RC_MontoDispersadoARS_Privada_postMes = pd.read_csv(datafile)\n",
    "df = df_RC_MontoDispersadoARS_Privada_postMes\n",
    "nuevas_columnas = {col: col.replace(\"Capitas\", \"Monto\") for col in df.columns}\n",
    "df = df.rename(columns=nuevas_columnas)\n",
    "df_RC_MontoDispersadoARS_Privada_postMes =df\n",
    "df.to_csv(datafile, index=False)\n",
    "#print(df_RC_MontoDispersadoARS_Privada_postMes.info())"
   ]
  },
  {
   "cell_type": "code",
   "execution_count": 69,
   "id": "42b75696-53de-4798-84b3-d835d6d41b41",
   "metadata": {
    "tags": []
   },
   "outputs": [
    {
     "name": "stdout",
     "output_type": "stream",
     "text": [
      "<class 'pandas.core.frame.DataFrame'>\n",
      "Int64Index: 196 entries, 0 to 195\n",
      "Data columns (total 28 columns):\n",
      " #   Column                                       Non-Null Count  Dtype \n",
      "---  ------                                       --------------  ----- \n",
      " 0   Periodo de Cobertura                         196 non-null    object\n",
      " 1   Total_Capitas_Dispersadas                    196 non-null    int64 \n",
      " 2   Total_Capitas_Dispersada_mes                 196 non-null    int64 \n",
      " 3   Total_Capitas_Dispersada_posterior           196 non-null    int64 \n",
      " 4   Titulares_Total_capitas                      196 non-null    int64 \n",
      " 5   Titulares_Dispersadas_mes_capitas            196 non-null    int64 \n",
      " 6   Titulares_Dispersadas_posterior_capitas      196 non-null    int64 \n",
      " 7   Dependientes_Total_capitas                   196 non-null    int64 \n",
      " 8   Dependientes_Dispersadas_mes_capitas         196 non-null    int64 \n",
      " 9   Dependientess_Dispersadas_posterior_capitas  196 non-null    int64 \n",
      " 10  Adicionales_Total_capitas                    196 non-null    int64 \n",
      " 11  Adicionales_Dispersadas_mes_capitas          196 non-null    int64 \n",
      " 12  Adicionales_Dispersadas_posterior_capitas    196 non-null    int64 \n",
      " 13  Year                                         196 non-null    int64 \n",
      " 14  Month                                        196 non-null    int64 \n",
      " 15  Total_Monto_Dispersadas                      196 non-null    int64 \n",
      " 16  Total_Monto_Dispersada_mes                   196 non-null    int64 \n",
      " 17  Total_Monto_Dispersada_posterior             196 non-null    int64 \n",
      " 18  Titulares_Total_monto                        196 non-null    int64 \n",
      " 19  Titulares_Dispersadas_mes_monto              196 non-null    int64 \n",
      " 20  Titulares_Dispersadas_posterior_monto        196 non-null    int64 \n",
      " 21  Dependientes_Total_monto                     196 non-null    int64 \n",
      " 22  Dependientes_Dispersadas_mes_monto           196 non-null    int64 \n",
      " 23  Dependientess_Dispersadas_posterior_monto    196 non-null    int64 \n",
      " 24  Adicionales_Total_monto                      196 non-null    int64 \n",
      " 25  Adicionales_Dispersadas_mes_monto            196 non-null    int64 \n",
      " 26  Adicionales_Dispersadas_posterior_monto      196 non-null    int64 \n",
      " 27  Tipo_de_ARS                                  196 non-null    object\n",
      "dtypes: int64(26), object(2)\n",
      "memory usage: 44.4+ KB\n",
      "None\n"
     ]
    }
   ],
   "source": [
    "# Cargar los DataFrames\n",
    "df1 = df_RC_CapitasDispersadoARS_Privada_postMes\n",
    "df2 = df_RC_MontoDispersadoARS_Privada_postMes\n",
    "\n",
    "\n",
    "# Realizar la unión de los DataFrames\n",
    "df_union = pd.merge(df1, df2, on=[\"Periodo de Cobertura\", \"Year\", \"Month\"],suffixes=('_capitas', '_monto'))\n",
    "\n",
    "# Guardar el resultado en un archivo CSV\n",
    "output_file = 'data/SISALRIL/financiamiento/Financiamiento_DispersadoARS_Privada_postMes.csv'\n",
    "df_union['Tipo_de_ARS'] ='Privada'\n",
    "print(df_union.info())\n",
    "df_union.to_csv(output_file, index=False)"
   ]
  },
  {
   "cell_type": "code",
   "execution_count": 66,
   "id": "38a3b2f7-22c7-4929-9bac-6c55dae5c84e",
   "metadata": {
    "tags": []
   },
   "outputs": [],
   "source": [
    "data_path = \"data/SISALRIL/financiamiento/Financiamiento_RC_PBS_05.xlsx\"\n",
    "datafile = 'data/SISALRIL/financiamiento/CapitasDispersadoARS_Publicas_postMes.csv'\n",
    "df_RC_CapitasDispersadoARS_Publicas_postMes = pd.read_csv(datafile)\n",
    "#print(df_RC_CapitasDispersadoARS_Publicas_postMes.info())\n",
    "data_path = \"data/SISALRIL/financiamiento/Financiamiento_RC_PBS_05.xlsx\"\n",
    "datafile = 'data/SISALRIL/financiamiento/MontoDispersadoARS_Publicas_postMes.csv'\n",
    "df_RC_MontoDispersadoARS_Publicas_postMes = pd.read_csv(datafile)\n",
    "df = df_RC_MontoDispersadoARS_Publicas_postMes\n",
    "nuevas_columnas = {col: col.replace(\"Capitas\", \"Monto\") for col in df.columns}\n",
    "df = df.rename(columns=nuevas_columnas)\n",
    "df_RC_MontoDispersadoARS_Publicas_postMes =df\n",
    "df.to_csv(datafile, index=False)\n",
    "#print(df_RC_MontoDispersadoARS_Publicas_postMes.info())"
   ]
  },
  {
   "cell_type": "code",
   "execution_count": 67,
   "id": "dd799096-b073-48b4-8132-114e801de1e7",
   "metadata": {
    "tags": []
   },
   "outputs": [
    {
     "name": "stdout",
     "output_type": "stream",
     "text": [
      "<class 'pandas.core.frame.DataFrame'>\n",
      "Int64Index: 196 entries, 0 to 195\n",
      "Data columns (total 28 columns):\n",
      " #   Column                                       Non-Null Count  Dtype \n",
      "---  ------                                       --------------  ----- \n",
      " 0   Periodo de Cobertura                         196 non-null    object\n",
      " 1   Total_Capitas_Dispersadas                    196 non-null    int64 \n",
      " 2   Total_Capitas_Dispersada_mes                 196 non-null    int64 \n",
      " 3   Total_Capitas_Dispersada_posterior           196 non-null    int64 \n",
      " 4   Titulares_Total_capitas                      196 non-null    int64 \n",
      " 5   Titulares_Dispersadas_mes_capitas            196 non-null    int64 \n",
      " 6   Titulares_Dispersadas_posterior_capitas      196 non-null    int64 \n",
      " 7   Dependientes_Total_capitas                   196 non-null    int64 \n",
      " 8   Dependientes_Dispersadas_mes_capitas         196 non-null    int64 \n",
      " 9   Dependientess_Dispersadas_posterior_capitas  196 non-null    int64 \n",
      " 10  Adicionales_Total_capitas                    196 non-null    int64 \n",
      " 11  Adicionales_Dispersadas_mes_capitas          196 non-null    int64 \n",
      " 12  Adicionales_Dispersadas_posterior_capitas    196 non-null    int64 \n",
      " 13  Year                                         196 non-null    int64 \n",
      " 14  Month                                        196 non-null    int64 \n",
      " 15  Total_Monto_Dispersadas                      196 non-null    int64 \n",
      " 16  Total_Monto_Dispersada_mes                   196 non-null    int64 \n",
      " 17  Total_Monto_Dispersada_posterior             196 non-null    int64 \n",
      " 18  Titulares_Total_monto                        196 non-null    int64 \n",
      " 19  Titulares_Dispersadas_mes_monto              196 non-null    int64 \n",
      " 20  Titulares_Dispersadas_posterior_monto        196 non-null    int64 \n",
      " 21  Dependientes_Total_monto                     196 non-null    int64 \n",
      " 22  Dependientes_Dispersadas_mes_monto           196 non-null    int64 \n",
      " 23  Dependientess_Dispersadas_posterior_monto    196 non-null    int64 \n",
      " 24  Adicionales_Total_monto                      196 non-null    int64 \n",
      " 25  Adicionales_Dispersadas_mes_monto            196 non-null    int64 \n",
      " 26  Adicionales_Dispersadas_posterior_monto      196 non-null    int64 \n",
      " 27  Tipo_de_ARS                                  196 non-null    object\n",
      "dtypes: int64(26), object(2)\n",
      "memory usage: 44.4+ KB\n",
      "None\n"
     ]
    }
   ],
   "source": [
    "# Cargar los DataFrames\n",
    "df1 = df_RC_CapitasDispersadoARS_Publicas_postMes\n",
    "df2 = df_RC_MontoDispersadoARS_Publicas_postMes\n",
    "\n",
    "\n",
    "# Realizar la unión de los DataFrames\n",
    "df_union = pd.merge(df1, df2, on=[\"Periodo de Cobertura\", \"Year\", \"Month\"],suffixes=('_capitas', '_monto'))\n",
    "\n",
    "# Guardar el resultado en un archivo CSV\n",
    "output_file = 'data/SISALRIL/financiamiento/Financiamiento_DispersadoARS_Publicas_postMes.csv'\n",
    "df_union['Tipo_de_ARS'] ='Publica'\n",
    "print(df_union.info())\n",
    "df_union.to_csv(output_file, index=False)\n",
    "\n",
    "\n"
   ]
  },
  {
   "cell_type": "code",
   "execution_count": 74,
   "id": "25aaffc3-c597-4d3f-8d08-9d1d3021e6fc",
   "metadata": {},
   "outputs": [
    {
     "name": "stdout",
     "output_type": "stream",
     "text": [
      "<class 'pandas.core.frame.DataFrame'>\n",
      "RangeIndex: 588 entries, 0 to 587\n",
      "Data columns (total 28 columns):\n",
      " #   Column                                       Non-Null Count  Dtype \n",
      "---  ------                                       --------------  ----- \n",
      " 0   Periodo de Cobertura                         588 non-null    object\n",
      " 1   Total_Capitas_Dispersadas                    588 non-null    int64 \n",
      " 2   Total_Capitas_Dispersada_mes                 588 non-null    int64 \n",
      " 3   Total_Capitas_Dispersada_posterior           588 non-null    int64 \n",
      " 4   Titulares_Total_capitas                      588 non-null    int64 \n",
      " 5   Titulares_Dispersadas_mes_capitas            588 non-null    int64 \n",
      " 6   Titulares_Dispersadas_posterior_capitas      588 non-null    int64 \n",
      " 7   Dependientes_Total_capitas                   588 non-null    int64 \n",
      " 8   Dependientes_Dispersadas_mes_capitas         588 non-null    int64 \n",
      " 9   Dependientess_Dispersadas_posterior_capitas  588 non-null    int64 \n",
      " 10  Adicionales_Total_capitas                    588 non-null    int64 \n",
      " 11  Adicionales_Dispersadas_mes_capitas          588 non-null    int64 \n",
      " 12  Adicionales_Dispersadas_posterior_capitas    588 non-null    int64 \n",
      " 13  Year                                         588 non-null    int64 \n",
      " 14  Month                                        588 non-null    int64 \n",
      " 15  Total_Monto_Dispersadas                      588 non-null    int64 \n",
      " 16  Total_Monto_Dispersada_mes                   588 non-null    int64 \n",
      " 17  Total_Monto_Dispersada_posterior             588 non-null    int64 \n",
      " 18  Titulares_Total_monto                        588 non-null    int64 \n",
      " 19  Titulares_Dispersadas_mes_monto              588 non-null    int64 \n",
      " 20  Titulares_Dispersadas_posterior_monto        588 non-null    int64 \n",
      " 21  Dependientes_Total_monto                     588 non-null    int64 \n",
      " 22  Dependientes_Dispersadas_mes_monto           588 non-null    int64 \n",
      " 23  Dependientess_Dispersadas_posterior_monto    588 non-null    int64 \n",
      " 24  Adicionales_Total_monto                      588 non-null    int64 \n",
      " 25  Adicionales_Dispersadas_mes_monto            588 non-null    int64 \n",
      " 26  Adicionales_Dispersadas_posterior_monto      588 non-null    int64 \n",
      " 27  Tipo_de_ARS                                  588 non-null    object\n",
      "dtypes: int64(26), object(2)\n",
      "memory usage: 128.8+ KB\n",
      "None\n"
     ]
    }
   ],
   "source": [
    "output_file1 = 'data/SISALRIL/financiamiento/Financiamiento_DispersadoARS_Autogestion_postMes.csv'\n",
    "output_file2 = 'data/SISALRIL/financiamiento/Financiamiento_DispersadoARS_Privada_postMes.csv'\n",
    "output_file3 = 'data/SISALRIL/financiamiento/Financiamiento_DispersadoARS_Publicas_postMes.csv'\n",
    "\n",
    "\n",
    "# Cargar los DataFrames\n",
    "df1 = pd.read_csv(output_file1)\n",
    "df2 = pd.read_csv(output_file2)\n",
    "df3 = pd.read_csv(output_file3)\n",
    "\n",
    "# Definir las columnas para realizar la unión\n",
    "on_columns = [\"Periodo de Cobertura\", \"Year\", \"Month\"]\n",
    "\n",
    "# Definir el nombre del archivo de salida\n",
    "output_file = 'data/SISALRIL/financiamiento/Financiamiento_Dispersado_TipoARS_postMes.csv'## nombre del archivo CSV a ser guardado\n",
    "df_concatenated = pd.concat([df1, df2, df3],ignore_index=True)\n",
    "print(df_concatenated.info())\n",
    "df_concatenated.to_csv(output_file, index=False)"
   ]
  },
  {
   "cell_type": "code",
   "execution_count": 28,
   "id": "5580e548-24f4-4963-9f07-429826795295",
   "metadata": {
    "tags": []
   },
   "outputs": [],
   "source": [
    "data_path = \"data/SISALRIL/financiamiento/Financiamiento_RC_SFS_01.xlsx\"\n",
    "datafile = 'data/SISALRIL/financiamiento/MontoSFS_Periodo_Cuenta.csv'\n",
    "df_RC_MontoSFS_Periodo_Cuenta = pd.read_csv(datafile)\n",
    "#print(df_RC_MontoSFS_Periodo_Cuenta.info())\n",
    "data_path = \"data/SISALRIL/financiamiento/Financiamiento_SFS_03.xlsx\"\n",
    "datafile = 'data/SISALRIL/financiamiento/SFS_TopeSalarioMinimoContizable.csv'\n",
    "df_RC_SFS_TopeSalarioMinimoContizable = pd.read_csv(datafile)\n",
    "#print(df_RC_SFS_TopeSalarioMinimoContizable.info())"
   ]
  },
  {
   "cell_type": "code",
   "execution_count": 44,
   "id": "a1867355-070e-47b8-abe1-b2813be3263b",
   "metadata": {
    "tags": []
   },
   "outputs": [
    {
     "name": "stdout",
     "output_type": "stream",
     "text": [
      "<class 'pandas.core.frame.DataFrame'>\n",
      "Int64Index: 196 entries, 0 to 195\n",
      "Data columns (total 21 columns):\n",
      " #   Column                                  Non-Null Count  Dtype  \n",
      "---  ------                                  --------------  -----  \n",
      " 0   Periodo de Cobertura                    196 non-null    object \n",
      " 1   Total Empresas con aportes              196 non-null    int64  \n",
      " 2   Recaudo SFS                             196 non-null    float64\n",
      " 3   Cuidado de la Salud                     196 non-null    float64\n",
      " 4   Estancias Infantiles                    196 non-null    float64\n",
      " 5   Subsidios                               196 non-null    float64\n",
      " 6   Comisión Operación SISALRIL             196 non-null    float64\n",
      " 7   Cápita Adicional                        196 non-null    float64\n",
      " 8   Recargo por Atraso en pago de Facturas  196 non-null    float64\n",
      " 9   Year                                    196 non-null    int64  \n",
      " 10  Month                                   196 non-null    int64  \n",
      " 11  Salario Mínimo Cotizable                196 non-null    float64\n",
      " 12  Tope de Salario Mínimo Cotizable        196 non-null    float64\n",
      " 13  Total_Monto_Dispersadas                 196 non-null    int64  \n",
      " 14  Total_Capitas_Titulares                 196 non-null    int64  \n",
      " 15  Total_Capitas_Depend_Directos           196 non-null    int64  \n",
      " 16  Total_Capitas_Depend_Adicionales        196 non-null    int64  \n",
      " 17  Monto_Dispersado_Total                  196 non-null    float64\n",
      " 18  Monto_Dispersado_Titulares              196 non-null    float64\n",
      " 19  Monto_Dispersado_Dep_Directos           196 non-null    float64\n",
      " 20  Monto_Dispersado_Dep_Adicionales        196 non-null    float64\n",
      "dtypes: float64(13), int64(7), object(1)\n",
      "memory usage: 33.7+ KB\n",
      "None\n"
     ]
    }
   ],
   "source": [
    "\n",
    "data_path = \"data/SISALRIL/financiamiento/Financiamiento_RC_PBS_02.xlsx\"\n",
    "datafile = 'data/SISALRIL/financiamiento/MontoDispersado_TipoAfiliado_Periodo.csv'\n",
    "df_RC_MontoDispersado_TipoAfiliado_Periodo = pd.read_csv(datafile)\n",
    "df = df_RC_MontoDispersado_TipoAfiliado_Periodo\n",
    "#nuevas_columnas = {col: col.replace(\"Capitas\", \"Monto\") for col in df.columns}\n",
    "df = df.rename(columns=nuevas_columnas)\n",
    "df_RC_MontoDispersado_TipoAfiliado_Periodo =df\n",
    "df.to_csv(datafile, index=False)\n",
    "#print(df_RC_MontoDispersado_TipoAfiliado_Periodo.info())\n",
    "\n",
    "\n",
    "\n",
    "#merge_and_save_dataframes(dfs, output_file, on_columns, suffixes):\n",
    "# Cargar los DataFrames\n",
    "df1 = df_RC_MontoSFS_Periodo_Cuenta\n",
    "df2 = df_RC_SFS_TopeSalarioMinimoContizable\n",
    "df3 = df_RC_MontoDispersado_TipoAfiliado_Periodo\n",
    "\n",
    "# Definir las columnas para realizar la unión\n",
    "on_columns = [\"Periodo de Cobertura\", \"Year\", \"Month\"]\n",
    "\n",
    "# Definir los sufijos para las columnas de los DataFrames\n",
    "suffixes = ('_capitas', '_monto')\n",
    "\n",
    "# Definir el nombre del archivo de salida\n",
    "output_file = 'data/SISALRIL/financiamiento/Financiamiento_DispersadoARS_Publicas_postMes.csv'\n",
    "\n",
    "# Llamar a la función para unir y guardar los DataFrames\n",
    "df_union = merge_and_save_dataframes([df1, df2, df3], output_file, on_columns, suffixes)"
   ]
  },
  {
   "cell_type": "code",
   "execution_count": 30,
   "id": "13a14136-1792-4e8f-8e44-1922ad02e486",
   "metadata": {
    "tags": []
   },
   "outputs": [],
   "source": [
    " names_ =  [\n",
    "                'Ano de Cobertura',    \n",
    "                'Total_Salud (A)',\n",
    "                'PDSS_Subsidiado (A)',\n",
    "                'PDSS_Contributivo (A)',\n",
    "                'Otros_Planes_de_Salud (A)',\n",
    "                'PIB/Precios Corrientes (B)',\n",
    "                'Total en Relación al PIB (A/B)',\n",
    "                'PDSS_Subsidiado en Relación al PIB (A/B)',\n",
    "                'PDSS_Contributivo en Relación al PIB (A/B)',\n",
    "                'Otros_Planes_de_Salud en Relación al PIB (A/B)'\n",
    "            ]\n",
    "data_path = \"data/SISALRIL/financiamiento/Financiamiento_SFS_05.xlsx\"\n",
    "datafile = 'data/SISALRIL/financiamiento/GastoSalud_PIB.csv'\n",
    "##Extraer_FinanciamientoAnual(data_path, header_=9, rows_=23-9, skip=9, columns_=\"A:J\", column_names=names_, archivocsv=datafile)\n",
    "\n",
    "df_RC_GastoSalud_PIB = pd.read_csv(datafile)\n",
    "#print(df_RC_GastoSalud_PIB.head())\n",
    "data_path = \"data/SISALRIL/financiamiento/Financiamiento_SFS_PBS_01.xlsx\"\n",
    "datafile = 'data/SISALRIL/financiamiento/MontoARS_PBS_Regimen.csv'\n",
    "df_RC_MontoARS_PBS_Regimen = pd.read_csv(datafile)\n",
    "#print(df_RC_MontoARS_PBS_Regimen.head())"
   ]
  },
  {
   "cell_type": "code",
   "execution_count": 47,
   "id": "219f47d8-81e9-4246-a87d-7d50b96d5899",
   "metadata": {
    "tags": []
   },
   "outputs": [
    {
     "name": "stdout",
     "output_type": "stream",
     "text": [
      "<class 'pandas.core.frame.DataFrame'>\n",
      "Int64Index: 14 entries, 0 to 13\n",
      "Data columns (total 13 columns):\n",
      " #   Column                                          Non-Null Count  Dtype  \n",
      "---  ------                                          --------------  -----  \n",
      " 0   Ano de Cobertura                                14 non-null     int64  \n",
      " 1   Total_Salud (A)                                 14 non-null     float64\n",
      " 2   PDSS_Subsidiado (A)                             14 non-null     float64\n",
      " 3   PDSS_Contributivo (A)                           14 non-null     float64\n",
      " 4   Otros_Planes_de_Salud (A)                       14 non-null     float64\n",
      " 5   PIB/Precios Corrientes (B)                      14 non-null     float64\n",
      " 6   Total en Relación al PIB (A/B)                  14 non-null     float64\n",
      " 7   PDSS_Subsidiado en Relación al PIB (A/B)        14 non-null     float64\n",
      " 8   PDSS_Contributivo en Relación al PIB (A/B)      14 non-null     float64\n",
      " 9   Otros_Planes_de_Salud en Relación al PIB (A/B)  14 non-null     float64\n",
      " 10  Total Dispersado SFS                            14 non-null     float64\n",
      " 11  Régimen Contributivo                            14 non-null     float64\n",
      " 12  Régimen Subsidiado                              14 non-null     float64\n",
      "dtypes: float64(12), int64(1)\n",
      "memory usage: 1.5 KB\n",
      "None\n"
     ]
    }
   ],
   "source": [
    "\n",
    "\n",
    "#merge_and_save_dataframes(df1, df2, output_file, on_columns, suffixes):\n",
    "df1 = df_RC_GastoSalud_PIB\n",
    "df2 = df_RC_MontoARS_PBS_Regimen\n",
    "datafile = 'data/SISALRIL/financiamiento/FinanciamientoARS_SaludPIB_Regimen.csv'\n",
    "on_columns = ['Ano de Cobertura']\n",
    "suffixes=('_capitas', '_monto')\n",
    "merge_and_save_dataframes([df1,df2],datafile,on_columns,suffixes)\n"
   ]
  },
  {
   "cell_type": "code",
   "execution_count": null,
   "id": "99508a2c-7d6a-4615-a4bc-6979db0dc0a7",
   "metadata": {
    "tags": []
   },
   "outputs": [],
   "source": [
    "\n"
   ]
  },
  {
   "cell_type": "markdown",
   "id": "b294d042-591a-4547-b1b0-ee2027454700",
   "metadata": {},
   "source": [
    "## Prestaciones"
   ]
  },
  {
   "cell_type": "code",
   "execution_count": 32,
   "id": "18d0b41c-a793-49b3-aa15-14cf8549b520",
   "metadata": {
    "tags": []
   },
   "outputs": [],
   "source": [
    "extraer_prestaciones()"
   ]
  },
  {
   "cell_type": "code",
   "execution_count": 33,
   "id": "3675778f-e9e0-483d-818f-601013ebf9e4",
   "metadata": {},
   "outputs": [],
   "source": [
    "names_ =  [\n",
    "        'Ano de Cobertura',\n",
    "        'Grupo Numero',\n",
    "        'Grupo Descripcion ',\n",
    "        'Servicios Prestados',\n",
    "        'Distribucion Porcentual ',\n",
    "    ]\n",
    "data_path = \"data/SISALRIL/prestaciones/Prestaciones_RC_PBS_02.xlsx\"\n",
    "datafile = 'data/SISALRIL/prestaciones/PrestacionesPBS_Servicios.csv'\n",
    "#  Extraer_PrestacionesPBS(data_path, header_=7, rows_=231-7, skip=7, columns_=\"A:E\", column_names=names_, archivocsv=datafile)\n",
    "df_PrestacionesPBS_Servicios = pd.read_csv(datafile)\n",
    "#print(df_PrestacionesPBS_Servicios.head())\n",
    "\n",
    "data_path = \"data/SISALRIL/prestaciones/Prestaciones_RC_PBS_01.xlsx\"\n",
    "datafile = 'data/SISALRIL/prestaciones/PrestacionesPBS_Monto.csv'\n",
    "## Extraer_PrestacionesPBS(data_path, header_=6, rows_=230-6, skip=6, columns_=\"A:E\",  archivocsv=datafile)\n",
    "df_PrestacionesPBS_Monto = pd.read_csv(datafile)\n",
    "#print(df_PrestacionesPBS_Monto.head())"
   ]
  },
  {
   "cell_type": "code",
   "execution_count": 40,
   "id": "20a36327-0d80-488f-9e50-60602df5acbd",
   "metadata": {},
   "outputs": [
    {
     "name": "stdout",
     "output_type": "stream",
     "text": [
      "<class 'pandas.core.frame.DataFrame'>\n",
      "Int64Index: 207 entries, 0 to 206\n",
      "Data columns (total 7 columns):\n",
      " #   Column                            Non-Null Count  Dtype  \n",
      "---  ------                            --------------  -----  \n",
      " 0   Ano de Cobertura                  207 non-null    int64  \n",
      " 1   Grupo Numero                      207 non-null    float64\n",
      " 2   Grupo Descripcion                 207 non-null    object \n",
      " 3   Servicios Prestados               207 non-null    int64  \n",
      " 4   Distribucion Porcentual _capitas  207 non-null    float64\n",
      " 5   Montos Pagados                    207 non-null    float64\n",
      " 6   Distribucion Porcentual _monto    207 non-null    float64\n",
      "dtypes: float64(4), int64(2), object(1)\n",
      "memory usage: 12.9+ KB\n",
      "None\n"
     ]
    }
   ],
   "source": [
    "\n",
    "#merge_and_save_dataframes(df1, df2, output_file, on_columns, suffixes):\n",
    "df1 = df_PrestacionesPBS_Servicios\n",
    "df2 = df_PrestacionesPBS_Monto\n",
    "\n",
    "datafile = 'data/SISALRIL/financiamiento/PrestacionesPBS.csv'\n",
    "on_columns = ['Ano de Cobertura', 'Grupo Numero','Grupo Descripcion ']\n",
    "suffixes=('_capitas', '_monto')\n",
    "merge_and_save_dataframes(df1,df2,datafile,on_columns,suffixes)\n"
   ]
  },
  {
   "cell_type": "markdown",
   "id": "00d17c1e-2b66-4c41-b81c-c67c009f2860",
   "metadata": {},
   "source": [
    "## Siniestralidad"
   ]
  },
  {
   "cell_type": "code",
   "execution_count": 35,
   "id": "1811fc08-7161-4d7d-ae6a-8e2a0ea8cdf5",
   "metadata": {},
   "outputs": [],
   "source": [
    "extraer_siniestralidad()"
   ]
  },
  {
   "cell_type": "code",
   "execution_count": 41,
   "id": "59051d8e-8864-4b12-85be-a094fc00d418",
   "metadata": {},
   "outputs": [],
   "source": [
    "data_path = \"data/SISALRIL/siniestralidad/Siniestralidad_RC_PBS_01.xlsx\"\n",
    "datafile = 'data/SISALRIL/siniestralidad/RC_Ingresos_Gastos_Siniestralidad.csv'\n",
    "\n",
    "#  Extraer_PrestacionesPBS(data_path, header_=7, rows_=231-7, skip=7, columns_=\"A:E\", column_names=names_, archivocsv=datafile)\n",
    "df_RC_Ingresos_Gastos_Siniestralidad = pd.read_csv(datafile)\n",
    "#print(df_RC_Ingresos_Gastos_Siniestralidad.info())\n",
    "\n",
    "data_path = \"data/SISALRIL/siniestralidad/Sinestralidad_OP_01.xlsx\"\n",
    "datafile = 'data/SISALRIL/siniestralidad/OP_Ingresos_Gastos_Siniestralidad.csv'\n",
    "#  Extraer_PrestacionesPBS(data_path, header_=7, rows_=231-7, skip=7, columns_=\"A:E\", column_names=names_, archivocsv=datafile)\n",
    "df_OP_Ingresos_Gastos_Siniestralidad = pd.read_csv(datafile)\n",
    "#print(df_OP_Ingresos_Gastos_Siniestralidad.info())\n",
    "\n",
    "data_path = \"data/SISALRIL/siniestralidad/Siniestralidad_RC_PBS_02.xlsx\"\n",
    "datafile = 'data/SISALRIL/siniestralidad/RC_Ingresos_Gastos_Siniestralidad_Anual.csv'\n",
    "\n",
    "#  Extraer_PrestacionesPBS(data_path, header_=7, rows_=231-7, skip=7, columns_=\"A:E\", column_names=names_, archivocsv=datafile)\n",
    "df_RC_Ingresos_Gastos_Siniestralidad_Anual = pd.read_csv(datafile)\n",
    "#print(df_RC_Ingresos_Gastos_Siniestralidad_Anual.info())\n",
    "\n",
    "data_path = \"data/SISALRIL/siniestralidad/Sinestralidad_OP_02.xlsx\"\n",
    "datafile = 'data/SISALRIL/siniestralidad/OP_Ingresos_Gastos_Siniestralidad_Anual.csv'\n",
    "\n",
    "#  Extraer_PrestacionesPBS(data_path, header_=7, rows_=231-7, skip=7, columns_=\"A:E\", column_names=names_, archivocsv=datafile)\n",
    "df_OP_Ingresos_Gastos_Siniestralidad_Anual = pd.read_csv(datafile)\n",
    "#print(df_OP_Ingresos_Gastos_Siniestralidad_Anual.info())\n"
   ]
  },
  {
   "cell_type": "code",
   "execution_count": 39,
   "id": "c4c9cb67-8e69-49f2-8f53-4521e3081774",
   "metadata": {},
   "outputs": [
    {
     "name": "stdout",
     "output_type": "stream",
     "text": [
      "<class 'pandas.core.frame.DataFrame'>\n",
      "Int64Index: 195 entries, 0 to 194\n",
      "Data columns (total 9 columns):\n",
      " #   Column                               Non-Null Count  Dtype  \n",
      "---  ------                               --------------  -----  \n",
      " 0   Periodo de Cobertura                 195 non-null    object \n",
      " 1   Ingresos en Salud_RC                 195 non-null    float64\n",
      " 2   Gasto en Salud_RC                    195 non-null    float64\n",
      " 3   Porcentaje (%) de Siniestralidad_RC  195 non-null    float64\n",
      " 4   Year                                 195 non-null    int64  \n",
      " 5   Month                                195 non-null    int64  \n",
      " 6   Ingresos en Salud_OP                 195 non-null    float64\n",
      " 7   Gasto en Salud_OP                    195 non-null    float64\n",
      " 8   Porcentaje (%) de Siniestralidad_OP  195 non-null    float64\n",
      "dtypes: float64(6), int64(2), object(1)\n",
      "memory usage: 15.2+ KB\n",
      "None\n",
      "<class 'pandas.core.frame.DataFrame'>\n",
      "Int64Index: 17 entries, 0 to 16\n",
      "Data columns (total 25 columns):\n",
      " #   Column                             Non-Null Count  Dtype  \n",
      "---  ------                             --------------  -----  \n",
      " 0   Ano de Cobertura                   17 non-null     int64  \n",
      " 1   Ingresos ARS Total_RC              17 non-null     float64\n",
      " 2   Ingresos ARS Autogestion_RC        17 non-null     float64\n",
      " 3   Ingresos ARS Privada_RC            17 non-null     float64\n",
      " 4   Ingresos ARS Publica_RC            17 non-null     float64\n",
      " 5   Gastos ARS Total_RC                17 non-null     float64\n",
      " 6   Gastos ARS Autogestion_RC          17 non-null     float64\n",
      " 7   Gastos ARS Privada_RC              17 non-null     float64\n",
      " 8   Gastos ARS Publica_RC              17 non-null     float64\n",
      " 9   Siniestralidad ARS Total_RC        17 non-null     float64\n",
      " 10  Siniestralidad ARS Autogestion_RC  17 non-null     float64\n",
      " 11  Siniestralidad ARS Privada_RC      17 non-null     float64\n",
      " 12  Siniestralidad ARS Publica_RC      17 non-null     float64\n",
      " 13  Ingresos ARS Total_OP              17 non-null     float64\n",
      " 14  Ingresos ARS Autogestion_OP        17 non-null     float64\n",
      " 15  Ingresos ARS Privada_OP            17 non-null     float64\n",
      " 16  Ingresos ARS Publica_OP            17 non-null     float64\n",
      " 17  Gastos ARS Total_OP                17 non-null     float64\n",
      " 18  Gastos ARS Autogestion_OP          17 non-null     float64\n",
      " 19  Gastos ARS Privada_OP              17 non-null     float64\n",
      " 20  Gastos ARS Publica_OP              17 non-null     float64\n",
      " 21  Siniestralidad ARS Total_OP        17 non-null     float64\n",
      " 22  Siniestralidad ARS Autogestion_OP  17 non-null     float64\n",
      " 23  Siniestralidad ARS Privada_OP      17 non-null     float64\n",
      " 24  Siniestralidad ARS Publica_OP      17 non-null     float64\n",
      "dtypes: float64(24), int64(1)\n",
      "memory usage: 3.5 KB\n",
      "None\n"
     ]
    }
   ],
   "source": [
    "#merge_and_save_dataframes(df1, df2, output_file, on_columns, suffixes):\n",
    "df1 = df_RC_Ingresos_Gastos_Siniestralidad\n",
    "df2 =df_OP_Ingresos_Gastos_Siniestralidad\n",
    "datafile = 'data/SISALRIL/siniestralidad/Ingresos_Gastos_Siniestralidad.csv' \n",
    "on_columns = [\"Periodo de Cobertura\", \"Year\", \"Month\"]\n",
    "suffixes=('_RC', '_OP')\n",
    "merge_and_save_dataframes(df1,df2,datafile,on_columns,suffixes)\n",
    "\n",
    "#merge_and_save_dataframes(df1, df2, output_file, on_columns, suffixes):\n",
    "df1 = df_RC_Ingresos_Gastos_Siniestralidad_Anual\n",
    "df2 =df_OP_Ingresos_Gastos_Siniestralidad_Anual\n",
    "datafile = 'data/SISALRIL/siniestralidad/Ingresos_Gastos_Siniestralidad_Anual.csv'\n",
    "on_columns = [\"Ano de Cobertura\"]\n",
    "suffixes=('_RC', '_OP')\n",
    "merge_and_save_dataframes(df1,df2,datafile,on_columns,suffixes)"
   ]
  },
  {
   "cell_type": "markdown",
   "id": "5ce82d20-ef5e-4c70-bfb4-ec2e74c1beb3",
   "metadata": {
    "tags": []
   },
   "source": [
    "# lo otro\n"
   ]
  },
  {
   "cell_type": "code",
   "execution_count": null,
   "id": "a98041f1-7aa6-4bd6-b4c6-4a0dc9b330f0",
   "metadata": {},
   "outputs": [],
   "source": []
  }
 ],
 "metadata": {
  "kernelspec": {
   "display_name": "Python 3 (ipykernel)",
   "language": "python",
   "name": "python3"
  },
  "language_info": {
   "codemirror_mode": {
    "name": "ipython",
    "version": 3
   },
   "file_extension": ".py",
   "mimetype": "text/x-python",
   "name": "python",
   "nbconvert_exporter": "python",
   "pygments_lexer": "ipython3",
   "version": "3.11.5"
  }
 },
 "nbformat": 4,
 "nbformat_minor": 5
}
