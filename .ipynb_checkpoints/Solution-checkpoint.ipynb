{
 "cells": [
  {
   "cell_type": "code",
   "execution_count": null,
   "id": "4e701d2d-4b30-4201-8134-922ff5a9600e",
   "metadata": {},
   "outputs": [],
   "source": [
    "import sys\n",
    "sys.path.append('src')\n",
    "sys.path.append('models')\n",
    "sys.path.append('data')\n",
    "from librerias import *\n",
    "from utils import *\n",
    "%load_ext autoreload\n",
    "%autoreload 2\n",
    "install_requirements()"
   ]
  },
  {
   "cell_type": "code",
   "execution_count": null,
   "id": "884eec19-a368-44e5-9f9c-b2ff918ad127",
   "metadata": {},
   "outputs": [],
   "source": [
    "%reload_ext autoreload"
   ]
  },
  {
   "cell_type": "code",
   "execution_count": null,
   "id": "47d03ff5-fcf5-4343-8e13-4a4fe0bbc729",
   "metadata": {},
   "outputs": [],
   "source": [
    "df=pd.read_csv('data\\dataset_SCL.csv')\n",
    "df.head()"
   ]
  },
  {
   "cell_type": "code",
   "execution_count": null,
   "id": "778eee74-b8e4-42f6-8f27-18c4d1b38c6e",
   "metadata": {},
   "outputs": [],
   "source": [
    "df.info()"
   ]
  },
  {
   "cell_type": "code",
   "execution_count": null,
   "id": "44767a2e-ad04-472c-94b9-76eaac34b33a",
   "metadata": {},
   "outputs": [],
   "source": []
  }
 ],
 "metadata": {
  "kernelspec": {
   "display_name": "Python 3 (ipykernel)",
   "language": "python",
   "name": "python3"
  },
  "language_info": {
   "codemirror_mode": {
    "name": "ipython",
    "version": 3
   },
   "file_extension": ".py",
   "mimetype": "text/x-python",
   "name": "python",
   "nbconvert_exporter": "python",
   "pygments_lexer": "ipython3",
   "version": "3.11.5"
  }
 },
 "nbformat": 4,
 "nbformat_minor": 5
}
